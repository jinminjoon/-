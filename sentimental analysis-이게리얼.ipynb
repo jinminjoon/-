{
 "cells": [
  {
   "cell_type": "code",
   "execution_count": 1,
   "id": "3a5953f5",
   "metadata": {},
   "outputs": [
    {
     "name": "stdout",
     "output_type": "stream",
     "text": [
      "Requirement already satisfied: rhinoMorph in c:\\users\\jinmi\\anaconda3\\lib\\site-packages (4.0.1.12)\n",
      "Note: you may need to restart the kernel to use updated packages.\n"
     ]
    }
   ],
   "source": [
    "pip install rhinoMorph"
   ]
  },
  {
   "cell_type": "code",
   "execution_count": 2,
   "id": "f895a9ac",
   "metadata": {},
   "outputs": [
    {
     "name": "stdout",
     "output_type": "stream",
     "text": [
      "Requirement already satisfied: JPype1 in c:\\users\\jinmi\\anaconda3\\lib\\site-packages (1.4.1)Note: you may need to restart the kernel to use updated packages.\n",
      "\n",
      "Requirement already satisfied: packaging in c:\\users\\jinmi\\anaconda3\\lib\\site-packages (from JPype1) (23.0)\n"
     ]
    }
   ],
   "source": [
    "pip install JPype1"
   ]
  },
  {
   "cell_type": "code",
   "execution_count": 1,
   "id": "bcababab",
   "metadata": {},
   "outputs": [],
   "source": [
    "import pandas as pd\n",
    "import rhinoMorph\n",
    "import re\n",
    "\n",
    "from sklearn.feature_extraction.text import TfidfVectorizer\n",
    "from sklearn.linear_model import LogisticRegression\n",
    "from sklearn.feature_extraction.text import TfidfVectorizer\n",
    "from sklearn.linear_model import LogisticRegression\n",
    "from sklearn.linear_model import Ridge, Lasso, ElasticNet\n",
    "from sklearn.model_selection import cross_val_score"
   ]
  },
  {
   "cell_type": "code",
   "execution_count": 2,
   "id": "bda390b3",
   "metadata": {},
   "outputs": [],
   "source": [
    "df1 = pd.read_csv(\"jmj_oliveyoung1_new.csv\")\n",
    "df2 = pd.read_csv(\"jmj_oliveyoung2_new.csv\")\n",
    "df3 = pd.read_csv(\"jmj_oliveyoung3_new.csv\")\n",
    "df4 = pd.read_csv(\"jmj_oliveyoung4_new.csv\")\n",
    "df5 = pd.read_csv(\"jmj_oliveyoung5_new.csv\")\n",
    "df6 = pd.read_csv(\"jmj_oliveyoung6_new.csv\")"
   ]
  },
  {
   "cell_type": "code",
   "execution_count": 3,
   "id": "c5dd4c01",
   "metadata": {},
   "outputs": [
    {
     "data": {
      "text/html": [
       "<div>\n",
       "<style scoped>\n",
       "    .dataframe tbody tr th:only-of-type {\n",
       "        vertical-align: middle;\n",
       "    }\n",
       "\n",
       "    .dataframe tbody tr th {\n",
       "        vertical-align: top;\n",
       "    }\n",
       "\n",
       "    .dataframe thead th {\n",
       "        text-align: right;\n",
       "    }\n",
       "</style>\n",
       "<table border=\"1\" class=\"dataframe\">\n",
       "  <thead>\n",
       "    <tr style=\"text-align: right;\">\n",
       "      <th></th>\n",
       "      <th>Unnamed: 0</th>\n",
       "      <th>id</th>\n",
       "      <th>rating</th>\n",
       "      <th>reviews</th>\n",
       "    </tr>\n",
       "  </thead>\n",
       "  <tbody>\n",
       "    <tr>\n",
       "      <th>0</th>\n",
       "      <td>21</td>\n",
       "      <td>dlekqls****</td>\n",
       "      <td>5</td>\n",
       "      <td>진짜진짜좋아요 킁카킁카 계속 맡게되요 ㅠㅠ 지속력도 좋아요</td>\n",
       "    </tr>\n",
       "    <tr>\n",
       "      <th>1</th>\n",
       "      <td>23</td>\n",
       "      <td>wlgp****</td>\n",
       "      <td>5</td>\n",
       "      <td>최애 향수 ㅠㅠ 친구가 생일선물로 상품권 줘서 제돈 조굼 보태서 바로 이거 사쏘요 ...</td>\n",
       "    </tr>\n",
       "    <tr>\n",
       "      <th>2</th>\n",
       "      <td>26</td>\n",
       "      <td>amocr****</td>\n",
       "      <td>4</td>\n",
       "      <td>향 되게 좋아여 지속력도 오래가서 학교 끝나고 나서도 친구가 향수 바꿨냐고 물어봄</td>\n",
       "    </tr>\n",
       "    <tr>\n",
       "      <th>3</th>\n",
       "      <td>28</td>\n",
       "      <td>k202307136****</td>\n",
       "      <td>5</td>\n",
       "      <td>여자들이 쓰기에 괜찮은 제품이에요전체적으로 엄청 달달한 향입니다여자친구도 굉장히 좋...</td>\n",
       "    </tr>\n",
       "    <tr>\n",
       "      <th>4</th>\n",
       "      <td>30</td>\n",
       "      <td>mimisis01</td>\n",
       "      <td>5</td>\n",
       "      <td>재구매 의사 있고 속옷,수건,베개,이불 등등 뿌려두면 은은한 향으로 기분도 좋아집니다.</td>\n",
       "    </tr>\n",
       "    <tr>\n",
       "      <th>...</th>\n",
       "      <td>...</td>\n",
       "      <td>...</td>\n",
       "      <td>...</td>\n",
       "      <td>...</td>\n",
       "    </tr>\n",
       "    <tr>\n",
       "      <th>2873</th>\n",
       "      <td>5902</td>\n",
       "      <td>ctv****</td>\n",
       "      <td>5</td>\n",
       "      <td>향은 진짜 너무 좋은데. 새벽 갬성이나 약간 옛날 갬성 느낌도 나고.. 지속력은 다...</td>\n",
       "    </tr>\n",
       "    <tr>\n",
       "      <th>2874</th>\n",
       "      <td>5903</td>\n",
       "      <td>jinsol****</td>\n",
       "      <td>4</td>\n",
       "      <td>향이 좋고 보관이 간편해 보여서 구매했는데 지속력은 나쁘지 않고 향은 역시 좋아요!...</td>\n",
       "    </tr>\n",
       "    <tr>\n",
       "      <th>2875</th>\n",
       "      <td>5904</td>\n",
       "      <td>tiger****</td>\n",
       "      <td>5</td>\n",
       "      <td>병에 담긴거 사고싶었는데 아쉽게도 재고가 없어서튜브 형식으로 된거 샀어요 향은 너무...</td>\n",
       "    </tr>\n",
       "    <tr>\n",
       "      <th>2876</th>\n",
       "      <td>5905</td>\n",
       "      <td>ksh67****</td>\n",
       "      <td>5</td>\n",
       "      <td>딸이 바르고 다니는거 냄새가 좋아서 바로 어디에서 샀는지 물어보고 구매했어요~^^ ...</td>\n",
       "    </tr>\n",
       "    <tr>\n",
       "      <th>2877</th>\n",
       "      <td>5906</td>\n",
       "      <td>sij****</td>\n",
       "      <td>5</td>\n",
       "      <td>뚜껑 열고 쓰면 항상 누르지도 않았는데 내용물이 나옵니다. 그래서 닦아도 닦아도 또...</td>\n",
       "    </tr>\n",
       "  </tbody>\n",
       "</table>\n",
       "<p>2878 rows × 4 columns</p>\n",
       "</div>"
      ],
      "text/plain": [
       "      Unnamed: 0              id  rating  \\\n",
       "0             21     dlekqls****       5   \n",
       "1             23        wlgp****       5   \n",
       "2             26       amocr****       4   \n",
       "3             28  k202307136****       5   \n",
       "4             30       mimisis01       5   \n",
       "...          ...             ...     ...   \n",
       "2873        5902         ctv****       5   \n",
       "2874        5903      jinsol****       4   \n",
       "2875        5904       tiger****       5   \n",
       "2876        5905       ksh67****       5   \n",
       "2877        5906         sij****       5   \n",
       "\n",
       "                                                reviews  \n",
       "0                      진짜진짜좋아요 킁카킁카 계속 맡게되요 ㅠㅠ 지속력도 좋아요  \n",
       "1     최애 향수 ㅠㅠ 친구가 생일선물로 상품권 줘서 제돈 조굼 보태서 바로 이거 사쏘요 ...  \n",
       "2         향 되게 좋아여 지속력도 오래가서 학교 끝나고 나서도 친구가 향수 바꿨냐고 물어봄  \n",
       "3     여자들이 쓰기에 괜찮은 제품이에요전체적으로 엄청 달달한 향입니다여자친구도 굉장히 좋...  \n",
       "4      재구매 의사 있고 속옷,수건,베개,이불 등등 뿌려두면 은은한 향으로 기분도 좋아집니다.  \n",
       "...                                                 ...  \n",
       "2873  향은 진짜 너무 좋은데. 새벽 갬성이나 약간 옛날 갬성 느낌도 나고.. 지속력은 다...  \n",
       "2874  향이 좋고 보관이 간편해 보여서 구매했는데 지속력은 나쁘지 않고 향은 역시 좋아요!...  \n",
       "2875  병에 담긴거 사고싶었는데 아쉽게도 재고가 없어서튜브 형식으로 된거 샀어요 향은 너무...  \n",
       "2876  딸이 바르고 다니는거 냄새가 좋아서 바로 어디에서 샀는지 물어보고 구매했어요~^^ ...  \n",
       "2877  뚜껑 열고 쓰면 항상 누르지도 않았는데 내용물이 나옵니다. 그래서 닦아도 닦아도 또...  \n",
       "\n",
       "[2878 rows x 4 columns]"
      ]
     },
     "execution_count": 3,
     "metadata": {},
     "output_type": "execute_result"
    }
   ],
   "source": [
    "df5"
   ]
  },
  {
   "cell_type": "code",
   "execution_count": 4,
   "id": "736cd091",
   "metadata": {},
   "outputs": [],
   "source": [
    "# 데이터프레임 하나로 병합\n",
    "df_all = pd.concat([df1, df2, df3, df4, df5, df6])"
   ]
  },
  {
   "cell_type": "code",
   "execution_count": 5,
   "id": "26c8e18a",
   "metadata": {},
   "outputs": [],
   "source": [
    "df_all = df_all.drop(columns='Unnamed: 0', axis=1)"
   ]
  },
  {
   "cell_type": "code",
   "execution_count": 6,
   "id": "53365429",
   "metadata": {},
   "outputs": [
    {
     "data": {
      "text/html": [
       "<div>\n",
       "<style scoped>\n",
       "    .dataframe tbody tr th:only-of-type {\n",
       "        vertical-align: middle;\n",
       "    }\n",
       "\n",
       "    .dataframe tbody tr th {\n",
       "        vertical-align: top;\n",
       "    }\n",
       "\n",
       "    .dataframe thead th {\n",
       "        text-align: right;\n",
       "    }\n",
       "</style>\n",
       "<table border=\"1\" class=\"dataframe\">\n",
       "  <thead>\n",
       "    <tr style=\"text-align: right;\">\n",
       "      <th></th>\n",
       "      <th>id</th>\n",
       "      <th>rating</th>\n",
       "      <th>reviews</th>\n",
       "    </tr>\n",
       "  </thead>\n",
       "  <tbody>\n",
       "    <tr>\n",
       "      <th>0</th>\n",
       "      <td>크림애비</td>\n",
       "      <td>5</td>\n",
       "      <td>수부지 다 모여라!!걱정했던만큼 꾸덕한 제형이 아니라 너무 마음에 듭니다 수분감은 ...</td>\n",
       "    </tr>\n",
       "    <tr>\n",
       "      <th>1</th>\n",
       "      <td>다블리</td>\n",
       "      <td>5</td>\n",
       "      <td>🩵 에스트라 아토베리어 365 크림 한달 사용 리뷰 입니다! 🩵☑️ 이 제품을 계속...</td>\n",
       "    </tr>\n",
       "    <tr>\n",
       "      <th>2</th>\n",
       "      <td>스누비</td>\n",
       "      <td>5</td>\n",
       "      <td>캡슐이 눈에 보이기도 하고 확실히 보습에 좋은 제품 같아요겨울철이라 보습 꼼꼼하게 ...</td>\n",
       "    </tr>\n",
       "    <tr>\n",
       "      <th>3</th>\n",
       "      <td>진예리</td>\n",
       "      <td>5</td>\n",
       "      <td>겨울철에는 항상 찾게 되는 크림이에요 캡슐이 들어있어서 수분감이 더 풍부한 느낌</td>\n",
       "    </tr>\n",
       "    <tr>\n",
       "      <th>4</th>\n",
       "      <td>두부후추메주</td>\n",
       "      <td>5</td>\n",
       "      <td>재구매템이고 떨어져가면 바로 쟁여요 제 피부를 책임져주는 아이…</td>\n",
       "    </tr>\n",
       "    <tr>\n",
       "      <th>...</th>\n",
       "      <td>...</td>\n",
       "      <td>...</td>\n",
       "      <td>...</td>\n",
       "    </tr>\n",
       "    <tr>\n",
       "      <th>2542</th>\n",
       "      <td>졔졔니</td>\n",
       "      <td>5</td>\n",
       "      <td>동생이 사달라고해서 구매했어요!좋은것 같아요~ 한달 사용 잘하고 리뷰하라고 할게요ㅎㅎ</td>\n",
       "    </tr>\n",
       "    <tr>\n",
       "      <th>2543</th>\n",
       "      <td>전설의올영</td>\n",
       "      <td>4</td>\n",
       "      <td>자연스러운 볼륨감과 에센스를  위해 구매하였는데요 향도 좋고 끈적임도 없네요! 추천...</td>\n",
       "    </tr>\n",
       "    <tr>\n",
       "      <th>2544</th>\n",
       "      <td>운수대톨</td>\n",
       "      <td>5</td>\n",
       "      <td>다슈 데일리 볼륨업 컬크림 자연스러운 헤어 스타일링에 도움이 됩니다</td>\n",
       "    </tr>\n",
       "    <tr>\n",
       "      <th>2545</th>\n",
       "      <td>빠밤</td>\n",
       "      <td>4</td>\n",
       "      <td>남편이 사용한다고 구매했는데, 편하게 데일리로 좋다고해요.</td>\n",
       "    </tr>\n",
       "    <tr>\n",
       "      <th>2546</th>\n",
       "      <td>운수대톨</td>\n",
       "      <td>5</td>\n",
       "      <td>다슈 데일리 볼륨업 컬크림 손바닥에 문질러 살짝 만져주면 스타일에 도움이됩니다</td>\n",
       "    </tr>\n",
       "  </tbody>\n",
       "</table>\n",
       "<p>17359 rows × 3 columns</p>\n",
       "</div>"
      ],
      "text/plain": [
       "          id  rating                                            reviews\n",
       "0       크림애비       5  수부지 다 모여라!!걱정했던만큼 꾸덕한 제형이 아니라 너무 마음에 듭니다 수분감은 ...\n",
       "1        다블리       5  🩵 에스트라 아토베리어 365 크림 한달 사용 리뷰 입니다! 🩵☑️ 이 제품을 계속...\n",
       "2        스누비       5  캡슐이 눈에 보이기도 하고 확실히 보습에 좋은 제품 같아요겨울철이라 보습 꼼꼼하게 ...\n",
       "3        진예리       5       겨울철에는 항상 찾게 되는 크림이에요 캡슐이 들어있어서 수분감이 더 풍부한 느낌\n",
       "4     두부후추메주       5                재구매템이고 떨어져가면 바로 쟁여요 제 피부를 책임져주는 아이…\n",
       "...      ...     ...                                                ...\n",
       "2542     졔졔니       5    동생이 사달라고해서 구매했어요!좋은것 같아요~ 한달 사용 잘하고 리뷰하라고 할게요ㅎㅎ\n",
       "2543   전설의올영       4  자연스러운 볼륨감과 에센스를  위해 구매하였는데요 향도 좋고 끈적임도 없네요! 추천...\n",
       "2544    운수대톨       5              다슈 데일리 볼륨업 컬크림 자연스러운 헤어 스타일링에 도움이 됩니다\n",
       "2545      빠밤       4                   남편이 사용한다고 구매했는데, 편하게 데일리로 좋다고해요.\n",
       "2546    운수대톨       5        다슈 데일리 볼륨업 컬크림 손바닥에 문질러 살짝 만져주면 스타일에 도움이됩니다\n",
       "\n",
       "[17359 rows x 3 columns]"
      ]
     },
     "execution_count": 6,
     "metadata": {},
     "output_type": "execute_result"
    }
   ],
   "source": [
    "df_all"
   ]
  },
  {
   "cell_type": "code",
   "execution_count": 7,
   "id": "fc4cc4c4",
   "metadata": {},
   "outputs": [],
   "source": [
    "# 리뷰에 따라 긍부정 라벨링, 함수\n",
    "def label_review(score):\n",
    "    if score <= 3:\n",
    "        return 0\n",
    "    else:\n",
    "        return 1"
   ]
  },
  {
   "cell_type": "code",
   "execution_count": 8,
   "id": "f430118c",
   "metadata": {},
   "outputs": [],
   "source": [
    "# 라벨링 적용\n",
    "df_all['label'] = df_all['rating'].apply(label_review)"
   ]
  },
  {
   "cell_type": "code",
   "execution_count": 9,
   "id": "ab09b6bf",
   "metadata": {},
   "outputs": [
    {
     "data": {
      "text/html": [
       "<div>\n",
       "<style scoped>\n",
       "    .dataframe tbody tr th:only-of-type {\n",
       "        vertical-align: middle;\n",
       "    }\n",
       "\n",
       "    .dataframe tbody tr th {\n",
       "        vertical-align: top;\n",
       "    }\n",
       "\n",
       "    .dataframe thead th {\n",
       "        text-align: right;\n",
       "    }\n",
       "</style>\n",
       "<table border=\"1\" class=\"dataframe\">\n",
       "  <thead>\n",
       "    <tr style=\"text-align: right;\">\n",
       "      <th></th>\n",
       "      <th>id</th>\n",
       "      <th>rating</th>\n",
       "      <th>reviews</th>\n",
       "      <th>label</th>\n",
       "    </tr>\n",
       "  </thead>\n",
       "  <tbody>\n",
       "    <tr>\n",
       "      <th>0</th>\n",
       "      <td>크림애비</td>\n",
       "      <td>5</td>\n",
       "      <td>수부지 다 모여라!!걱정했던만큼 꾸덕한 제형이 아니라 너무 마음에 듭니다 수분감은 ...</td>\n",
       "      <td>1</td>\n",
       "    </tr>\n",
       "    <tr>\n",
       "      <th>1</th>\n",
       "      <td>다블리</td>\n",
       "      <td>5</td>\n",
       "      <td>🩵 에스트라 아토베리어 365 크림 한달 사용 리뷰 입니다! 🩵☑️ 이 제품을 계속...</td>\n",
       "      <td>1</td>\n",
       "    </tr>\n",
       "    <tr>\n",
       "      <th>2</th>\n",
       "      <td>스누비</td>\n",
       "      <td>5</td>\n",
       "      <td>캡슐이 눈에 보이기도 하고 확실히 보습에 좋은 제품 같아요겨울철이라 보습 꼼꼼하게 ...</td>\n",
       "      <td>1</td>\n",
       "    </tr>\n",
       "    <tr>\n",
       "      <th>3</th>\n",
       "      <td>진예리</td>\n",
       "      <td>5</td>\n",
       "      <td>겨울철에는 항상 찾게 되는 크림이에요 캡슐이 들어있어서 수분감이 더 풍부한 느낌</td>\n",
       "      <td>1</td>\n",
       "    </tr>\n",
       "    <tr>\n",
       "      <th>4</th>\n",
       "      <td>두부후추메주</td>\n",
       "      <td>5</td>\n",
       "      <td>재구매템이고 떨어져가면 바로 쟁여요 제 피부를 책임져주는 아이…</td>\n",
       "      <td>1</td>\n",
       "    </tr>\n",
       "    <tr>\n",
       "      <th>...</th>\n",
       "      <td>...</td>\n",
       "      <td>...</td>\n",
       "      <td>...</td>\n",
       "      <td>...</td>\n",
       "    </tr>\n",
       "    <tr>\n",
       "      <th>2542</th>\n",
       "      <td>졔졔니</td>\n",
       "      <td>5</td>\n",
       "      <td>동생이 사달라고해서 구매했어요!좋은것 같아요~ 한달 사용 잘하고 리뷰하라고 할게요ㅎㅎ</td>\n",
       "      <td>1</td>\n",
       "    </tr>\n",
       "    <tr>\n",
       "      <th>2543</th>\n",
       "      <td>전설의올영</td>\n",
       "      <td>4</td>\n",
       "      <td>자연스러운 볼륨감과 에센스를  위해 구매하였는데요 향도 좋고 끈적임도 없네요! 추천...</td>\n",
       "      <td>1</td>\n",
       "    </tr>\n",
       "    <tr>\n",
       "      <th>2544</th>\n",
       "      <td>운수대톨</td>\n",
       "      <td>5</td>\n",
       "      <td>다슈 데일리 볼륨업 컬크림 자연스러운 헤어 스타일링에 도움이 됩니다</td>\n",
       "      <td>1</td>\n",
       "    </tr>\n",
       "    <tr>\n",
       "      <th>2545</th>\n",
       "      <td>빠밤</td>\n",
       "      <td>4</td>\n",
       "      <td>남편이 사용한다고 구매했는데, 편하게 데일리로 좋다고해요.</td>\n",
       "      <td>1</td>\n",
       "    </tr>\n",
       "    <tr>\n",
       "      <th>2546</th>\n",
       "      <td>운수대톨</td>\n",
       "      <td>5</td>\n",
       "      <td>다슈 데일리 볼륨업 컬크림 손바닥에 문질러 살짝 만져주면 스타일에 도움이됩니다</td>\n",
       "      <td>1</td>\n",
       "    </tr>\n",
       "  </tbody>\n",
       "</table>\n",
       "<p>17359 rows × 4 columns</p>\n",
       "</div>"
      ],
      "text/plain": [
       "          id  rating                                            reviews  label\n",
       "0       크림애비       5  수부지 다 모여라!!걱정했던만큼 꾸덕한 제형이 아니라 너무 마음에 듭니다 수분감은 ...      1\n",
       "1        다블리       5  🩵 에스트라 아토베리어 365 크림 한달 사용 리뷰 입니다! 🩵☑️ 이 제품을 계속...      1\n",
       "2        스누비       5  캡슐이 눈에 보이기도 하고 확실히 보습에 좋은 제품 같아요겨울철이라 보습 꼼꼼하게 ...      1\n",
       "3        진예리       5       겨울철에는 항상 찾게 되는 크림이에요 캡슐이 들어있어서 수분감이 더 풍부한 느낌      1\n",
       "4     두부후추메주       5                재구매템이고 떨어져가면 바로 쟁여요 제 피부를 책임져주는 아이…      1\n",
       "...      ...     ...                                                ...    ...\n",
       "2542     졔졔니       5    동생이 사달라고해서 구매했어요!좋은것 같아요~ 한달 사용 잘하고 리뷰하라고 할게요ㅎㅎ      1\n",
       "2543   전설의올영       4  자연스러운 볼륨감과 에센스를  위해 구매하였는데요 향도 좋고 끈적임도 없네요! 추천...      1\n",
       "2544    운수대톨       5              다슈 데일리 볼륨업 컬크림 자연스러운 헤어 스타일링에 도움이 됩니다      1\n",
       "2545      빠밤       4                   남편이 사용한다고 구매했는데, 편하게 데일리로 좋다고해요.      1\n",
       "2546    운수대톨       5        다슈 데일리 볼륨업 컬크림 손바닥에 문질러 살짝 만져주면 스타일에 도움이됩니다      1\n",
       "\n",
       "[17359 rows x 4 columns]"
      ]
     },
     "execution_count": 9,
     "metadata": {},
     "output_type": "execute_result"
    }
   ],
   "source": [
    "df_all"
   ]
  },
  {
   "cell_type": "code",
   "execution_count": 10,
   "id": "f1d46211",
   "metadata": {
    "scrolled": true
   },
   "outputs": [
    {
     "data": {
      "text/plain": [
       "1    16510\n",
       "0      849\n",
       "Name: label, dtype: int64"
      ]
     },
     "execution_count": 10,
     "metadata": {},
     "output_type": "execute_result"
    }
   ],
   "source": [
    "# 라벨링 결과 확인,\n",
    "# 긍정 데이터 약 95%, 부정 데이터 약 5%\n",
    "df_all['label'].value_counts()"
   ]
  },
  {
   "cell_type": "code",
   "execution_count": 15,
   "id": "bd97551a",
   "metadata": {},
   "outputs": [
    {
     "data": {
      "text/plain": [
       "0.9510916527449738"
      ]
     },
     "execution_count": 15,
     "metadata": {},
     "output_type": "execute_result"
    }
   ],
   "source": [
    "16510/17359"
   ]
  },
  {
   "cell_type": "code",
   "execution_count": 16,
   "id": "8b7f5486",
   "metadata": {},
   "outputs": [
    {
     "name": "stdout",
     "output_type": "stream",
     "text": [
      "filepath:  C:\\Users\\jinmi\\anaconda3\\Lib\\site-packages\n",
      "classpath:  C:\\Users\\jinmi\\anaconda3\\Lib\\site-packages\\rhinoMorph/lib/rhino.jar\n",
      "JVM is already started~\n",
      "RHINO started!\n"
     ]
    }
   ],
   "source": [
    "# 라이노 형태소 분석기 초기화\n",
    "rhn = rhinoMorph.startRhino()\n",
    "\n",
    "# 형태소 분석을 위한 전처리 함수\n",
    "def preprocess_review(review, rhn):\n",
    "    # 텍스트 정제, 한글 문자와 공백을 제외한 모든 문자\n",
    "    cleaned_review = re.sub(r'[^가-힣\\s]', '', review)\n",
    "    \n",
    "    # 형태소 분석, 필요한 품사(명사, 동사, 형용사)만 추출\n",
    "    morphs = rhinoMorph.onlyMorph_list(rhn, cleaned_review, pos=['NNG', 'NNP', 'VV', 'VA'], eomi=True)\n",
    "    return ' '.join(morphs)"
   ]
  },
  {
   "cell_type": "code",
   "execution_count": 17,
   "id": "b394815d",
   "metadata": {},
   "outputs": [],
   "source": [
    "# 'review' 컬럼에 형태소 분석 적용\n",
    "df_all['processed_review'] = df_all['reviews'].apply(lambda x: preprocess_review(x, rhn))"
   ]
  },
  {
   "cell_type": "code",
   "execution_count": 18,
   "id": "3786fe91",
   "metadata": {},
   "outputs": [
    {
     "data": {
      "text/html": [
       "<div>\n",
       "<style scoped>\n",
       "    .dataframe tbody tr th:only-of-type {\n",
       "        vertical-align: middle;\n",
       "    }\n",
       "\n",
       "    .dataframe tbody tr th {\n",
       "        vertical-align: top;\n",
       "    }\n",
       "\n",
       "    .dataframe thead th {\n",
       "        text-align: right;\n",
       "    }\n",
       "</style>\n",
       "<table border=\"1\" class=\"dataframe\">\n",
       "  <thead>\n",
       "    <tr style=\"text-align: right;\">\n",
       "      <th></th>\n",
       "      <th>id</th>\n",
       "      <th>rating</th>\n",
       "      <th>reviews</th>\n",
       "      <th>label</th>\n",
       "      <th>processed_review</th>\n",
       "    </tr>\n",
       "  </thead>\n",
       "  <tbody>\n",
       "    <tr>\n",
       "      <th>0</th>\n",
       "      <td>크림애비</td>\n",
       "      <td>5</td>\n",
       "      <td>수부지 다 모여라!!걱정했던만큼 꾸덕한 제형이 아니라 너무 마음에 듭니다 수분감은 ...</td>\n",
       "      <td>1</td>\n",
       "      <td>수부 모이다 걱정 하다 꾸다 덕 하다 제형 마음 들다 수분 감다 사용 하다 제품 세...</td>\n",
       "    </tr>\n",
       "    <tr>\n",
       "      <th>1</th>\n",
       "      <td>다블리</td>\n",
       "      <td>5</td>\n",
       "      <td>🩵 에스트라 아토베리어 365 크림 한달 사용 리뷰 입니다! 🩵☑️ 이 제품을 계속...</td>\n",
       "      <td>1</td>\n",
       "      <td>에스 트다 토 버리다 크림 사용 리뷰 제품 구매 하다 이유 복합 피부 에스 트다 토...</td>\n",
       "    </tr>\n",
       "    <tr>\n",
       "      <th>2</th>\n",
       "      <td>스누비</td>\n",
       "      <td>5</td>\n",
       "      <td>캡슐이 눈에 보이기도 하고 확실히 보습에 좋은 제품 같아요겨울철이라 보습 꼼꼼하게 ...</td>\n",
       "      <td>1</td>\n",
       "      <td>캡슐 눈 보이다 하다 보습 좋다 제품 같다 겨울철 보습</td>\n",
       "    </tr>\n",
       "    <tr>\n",
       "      <th>3</th>\n",
       "      <td>진예리</td>\n",
       "      <td>5</td>\n",
       "      <td>겨울철에는 항상 찾게 되는 크림이에요 캡슐이 들어있어서 수분감이 더 풍부한 느낌</td>\n",
       "      <td>1</td>\n",
       "      <td>겨울철 찾다 되다 크림 캡슐 들다 있다 수분 감 느낌</td>\n",
       "    </tr>\n",
       "    <tr>\n",
       "      <th>4</th>\n",
       "      <td>두부후추메주</td>\n",
       "      <td>5</td>\n",
       "      <td>재구매템이고 떨어져가면 바로 쟁여요 제 피부를 책임져주는 아이…</td>\n",
       "      <td>1</td>\n",
       "      <td>구매 떨어지다 쟁이다 피부 책임지다</td>\n",
       "    </tr>\n",
       "    <tr>\n",
       "      <th>...</th>\n",
       "      <td>...</td>\n",
       "      <td>...</td>\n",
       "      <td>...</td>\n",
       "      <td>...</td>\n",
       "      <td>...</td>\n",
       "    </tr>\n",
       "    <tr>\n",
       "      <th>2542</th>\n",
       "      <td>졔졔니</td>\n",
       "      <td>5</td>\n",
       "      <td>동생이 사달라고해서 구매했어요!좋은것 같아요~ 한달 사용 잘하고 리뷰하라고 할게요ㅎㅎ</td>\n",
       "      <td>1</td>\n",
       "      <td>동생 사다 달라다 좋다 같다 사용 잘하다 리뷰 하다</td>\n",
       "    </tr>\n",
       "    <tr>\n",
       "      <th>2543</th>\n",
       "      <td>전설의올영</td>\n",
       "      <td>4</td>\n",
       "      <td>자연스러운 볼륨감과 에센스를  위해 구매하였는데요 향도 좋고 끈적임도 없네요! 추천...</td>\n",
       "      <td>1</td>\n",
       "      <td>자연 볼륨감 에센스 위하다 향도 좋다 끈적이다 없다</td>\n",
       "    </tr>\n",
       "    <tr>\n",
       "      <th>2544</th>\n",
       "      <td>운수대톨</td>\n",
       "      <td>5</td>\n",
       "      <td>다슈 데일리 볼륨업 컬크림 자연스러운 헤어 스타일링에 도움이 됩니다</td>\n",
       "      <td>1</td>\n",
       "      <td>데일리 볼륨 업다 컬 크림 자연 헤어 스타일 링 도움 되다</td>\n",
       "    </tr>\n",
       "    <tr>\n",
       "      <th>2545</th>\n",
       "      <td>빠밤</td>\n",
       "      <td>4</td>\n",
       "      <td>남편이 사용한다고 구매했는데, 편하게 데일리로 좋다고해요.</td>\n",
       "      <td>1</td>\n",
       "      <td>남편 편하다 데일리 좋다 고해</td>\n",
       "    </tr>\n",
       "    <tr>\n",
       "      <th>2546</th>\n",
       "      <td>운수대톨</td>\n",
       "      <td>5</td>\n",
       "      <td>다슈 데일리 볼륨업 컬크림 손바닥에 문질러 살짝 만져주면 스타일에 도움이됩니다</td>\n",
       "      <td>1</td>\n",
       "      <td>데일리 볼륨 업다 컬 크림 손바닥 문지르다 만지다 스타일 도움 되다</td>\n",
       "    </tr>\n",
       "  </tbody>\n",
       "</table>\n",
       "<p>17359 rows × 5 columns</p>\n",
       "</div>"
      ],
      "text/plain": [
       "          id  rating                                            reviews  \\\n",
       "0       크림애비       5  수부지 다 모여라!!걱정했던만큼 꾸덕한 제형이 아니라 너무 마음에 듭니다 수분감은 ...   \n",
       "1        다블리       5  🩵 에스트라 아토베리어 365 크림 한달 사용 리뷰 입니다! 🩵☑️ 이 제품을 계속...   \n",
       "2        스누비       5  캡슐이 눈에 보이기도 하고 확실히 보습에 좋은 제품 같아요겨울철이라 보습 꼼꼼하게 ...   \n",
       "3        진예리       5       겨울철에는 항상 찾게 되는 크림이에요 캡슐이 들어있어서 수분감이 더 풍부한 느낌   \n",
       "4     두부후추메주       5                재구매템이고 떨어져가면 바로 쟁여요 제 피부를 책임져주는 아이…   \n",
       "...      ...     ...                                                ...   \n",
       "2542     졔졔니       5    동생이 사달라고해서 구매했어요!좋은것 같아요~ 한달 사용 잘하고 리뷰하라고 할게요ㅎㅎ   \n",
       "2543   전설의올영       4  자연스러운 볼륨감과 에센스를  위해 구매하였는데요 향도 좋고 끈적임도 없네요! 추천...   \n",
       "2544    운수대톨       5              다슈 데일리 볼륨업 컬크림 자연스러운 헤어 스타일링에 도움이 됩니다   \n",
       "2545      빠밤       4                   남편이 사용한다고 구매했는데, 편하게 데일리로 좋다고해요.   \n",
       "2546    운수대톨       5        다슈 데일리 볼륨업 컬크림 손바닥에 문질러 살짝 만져주면 스타일에 도움이됩니다   \n",
       "\n",
       "      label                                   processed_review  \n",
       "0         1  수부 모이다 걱정 하다 꾸다 덕 하다 제형 마음 들다 수분 감다 사용 하다 제품 세...  \n",
       "1         1  에스 트다 토 버리다 크림 사용 리뷰 제품 구매 하다 이유 복합 피부 에스 트다 토...  \n",
       "2         1                     캡슐 눈 보이다 하다 보습 좋다 제품 같다 겨울철 보습  \n",
       "3         1                      겨울철 찾다 되다 크림 캡슐 들다 있다 수분 감 느낌  \n",
       "4         1                                구매 떨어지다 쟁이다 피부 책임지다  \n",
       "...     ...                                                ...  \n",
       "2542      1                       동생 사다 달라다 좋다 같다 사용 잘하다 리뷰 하다  \n",
       "2543      1                       자연 볼륨감 에센스 위하다 향도 좋다 끈적이다 없다  \n",
       "2544      1                   데일리 볼륨 업다 컬 크림 자연 헤어 스타일 링 도움 되다  \n",
       "2545      1                                   남편 편하다 데일리 좋다 고해  \n",
       "2546      1              데일리 볼륨 업다 컬 크림 손바닥 문지르다 만지다 스타일 도움 되다  \n",
       "\n",
       "[17359 rows x 5 columns]"
      ]
     },
     "execution_count": 18,
     "metadata": {},
     "output_type": "execute_result"
    }
   ],
   "source": [
    "df_all"
   ]
  },
  {
   "cell_type": "code",
   "execution_count": 19,
   "id": "b07e8297",
   "metadata": {},
   "outputs": [],
   "source": [
    "# 불용어\n",
    "my_stop_words = ['아','휴','아이구','아이쿠','아이고','어','나','우리','저희','따라','의해','을','를','에',\n",
    "                     '의','가','으로','로','에게','뿐이다','의거하여','근거하여','입각하여','기준으로','예하면',\n",
    "                     '예를 들면','예를 들자면','저','소인','소생','저희','지말고','하지마','하지마라','다른','물론',\n",
    "                     '또한','그리고','비길수 없다','해서는 안된다','뿐만 아니라','만이 아니다','만은 아니다',\n",
    "                     '막론하고','관계없이','그치지 않다','그러나','그런데','하지만','든간에','논하지 않다',\n",
    "                     '따지지 않다','설사','비록','더라도','아니면','만 못하다','하는 편이 낫다','불문하고','향하여',\n",
    "                     '향해서','향하다','쪽으로','틈타','이용하여','타다','오르다','제외하고','이 외에','이 밖에',\n",
    "                     '하여야','비로소','한다면 몰라도','외에도','이곳','여기','부터','기점으로','따라서',\n",
    "                     '할 생각이다','하려고하다','이리하여','그리하여','그렇게 함으로써','하지만','일때','할때',\n",
    "                     '앞에서','중에서','보는데서','으로써','로써','까지','해야한다','일것이다','반드시','할줄알다',\n",
    "                     '할수있다','할수있어','임에 틀림없다','한다면','등','등등','제','겨우','단지','다만','할뿐',\n",
    "                     '딩동','댕그','대해서','대하여','대하면','훨씬','얼마나','얼마만큼','얼마큼','남짓','여',\n",
    "                     '얼마간','약간','다소','좀','조금','다수','몇','얼마','지만','하물며','또한','그러나',\n",
    "                     '그렇지만','하지만','이외에도','대해 말하자면','뿐이다','다음에','반대로','반대로 말하자면',\n",
    "                     '이와 반대로','바꾸어서 말하면','바꾸어서 한다면','만약','그렇지않으면','까악','툭','딱',\n",
    "                     '삐걱거리다','보드득','비걱거리다','꽈당','응당','해야한다','에 가서','각','각각','여러분',\n",
    "                     '각종','각자','제각기','하도록하다','와','과','그러므로','그래서','고로','한 까닭에',\n",
    "                     '하기 때문에','거니와','이지만','대하여','관하여','관한','과연','실로','아니나다를가',\n",
    "                     '생각한대로','진짜로','한적이있다','하곤하였다','하','하하','허허','아하','거바','와','오',\n",
    "                     '왜','어째서','무엇때문에','어찌','하겠는가','무슨','어디','어느곳','더군다나','하물며',\n",
    "                     '더욱이는','어느때','언제','야','이봐','어이','여보시오','흐흐','흥','휴','헉헉','헐떡헐떡',\n",
    "                     '영차','여차','어기여차','끙끙','아야','앗','아야','콸콸','졸졸','좍좍','뚝뚝','주룩주룩',\n",
    "                     '솨','우르르','그래도','또','그리고','바꾸어말하면','바꾸어말하자면','혹은','혹시','답다',\n",
    "                     '및','그에 따르는','때가 되어','즉','지든지','설령','가령','하더라도','할지라도','일지라도',\n",
    "                     '지든지','몇','거의','하마터면','인젠','이젠','된바에야','된이상','만큼\\t어찌됏든','그위에',\n",
    "                     '게다가','점에서 보아','비추어 보아','고려하면','하게될것이다','일것이다','비교적','좀',\n",
    "                     '보다더','비하면','시키다','하게하다','할만하다','의해서','연이서','이어서','잇따라','뒤따라',\n",
    "                     '뒤이어','결국','의지하여','기대여','통하여','자마자','더욱더','불구하고','얼마든지',\n",
    "                     '마음대로','주저하지 않고','곧','즉시','바로','당장','하자마자','밖에 안된다','하면된다',\n",
    "                     '그래','그렇지','요컨대','다시 말하자면','바꿔 말하면','즉','구체적으로','말하자면',\n",
    "                     '시작하여','시초에','이상','허','헉','허걱','바와같이','해도좋다','해도된다','게다가',\n",
    "                     '더구나','하물며','와르르','팍','퍽','펄렁','동안','이래','하고있었다','이었다','에서',\n",
    "                     '로부터','까지','예하면','했어요','해요','함께','같이','더불어','마저','마저도','양자',\n",
    "                     '모두','습니다','가까스로','하려고하다','즈음하여','다른','다른 방면으로','해봐요','습니까',\n",
    "                     '했어요','말할것도 없고','무릎쓰고','개의치않고','하는것만 못하다','하는것이 낫다','매',\n",
    "                     '매번','들','모','어느것','어느','로써','갖고말하자면','어디','어느쪽','어느것','어느해',\n",
    "                     '어느 년도','라 해도','언젠가','어떤것','어느것','저기','저쪽','저것','그때','그럼','그러면',\n",
    "                     '요만한걸','그래','그때','저것만큼','그저','이르기까지','할 줄 안다','할 힘이 있다','너',\n",
    "                     '너희','당신','어찌','설마','차라리','할지언정','할지라도','할망정','할지언정','구토하다',\n",
    "                     '게우다','토하다','메쓰겁다','옆사람','퉤','쳇','의거하여','근거하여','의해','따라','힘입어',\n",
    "                     '그','다음','버금','두번째로','기타','첫번째로','나머지는','그중에서','견지에서','형식으로 쓰여',\n",
    "                 '입장에서','위해서','단지','의해되다','하도록시키다','뿐만아니라','반대로','전후','전자','앞의것','잠시','잠깐','하면서','그렇지만','다음에','그러한즉','그런즉','남들','아무거나','어찌하든지','같다','비슷하다','예컨대','이럴정도로','어떻게','만약','만일','위에서 서술한바와같이','인 듯하다','하지 않는다면','만약에','무엇','무슨','어느','어떤','아래윗','조차','한데','그럼에도 불구하고','여전히','심지어','까지도','조차도','하지 않도록','않기 위하여','때','시각','무렵','시간','동안','어때','어떠한','하여금','네','예','우선','누구','누가 알겠는가','아무도','줄은모른다','줄은 몰랏다','하는 김에','겸사겸사','하는바','그런 까닭에','한 이유는','그러니','그러니까','때문에','그','너희','그들','너희들','타인','것','것들','너','위하여','공동으로','동시에','하기 위하여','어찌하여','무엇때문에','붕붕','윙윙','나','우리','엉엉','휘익','윙윙','오호','아하','어쨋든','만 못하다\\t하기보다는','차라리','하는 편이 낫다','흐흐','놀라다','상대적으로 말하자면','마치','아니라면','쉿','그렇지 않으면','그렇지 않다면','안 그러면','아니었다면','하든지','아니면','이라면','좋아','알았어','하는것도','그만이다','어쩔수 없다','하나','일','일반적으로','일단','한켠으로는','오자마자','이렇게되면','이와같다면','전부','한마디','한항목','근거로','하기에','아울러','하지 않도록','않기 위해서','이르기까지','이 되다','로 인하여','까닭으로','이유만으로','이로 인하여','그래서','이 때문에','그러므로','그런 까닭에','알 수 있다','결론을 낼 수 있다','으로 인하여','있다','어떤것','관계가 있다','관련이 있다','연관되다','어떤것들','에 대해','이리하여','그리하여','여부','하기보다는','하느니','하면 할수록','운운','이러이러하다','하구나','하도다','다시말하면','다음으로','에 있다','에 달려 있다','우리','우리들','오히려','하기는한데','어떻게','어떻해','어찌됏어','어때','어째서','본대로','자','이','이쪽','여기','이것','이번','이렇게말하자면','이런','이러한','이와 같은','요만큼','요만한 것','얼마 안 되는 것','이만큼','이 정도의','이렇게 많은 것','이와 같다','이때','이렇구나','것과 같이','끼익','삐걱','따위','와 같은 사람들','부류의 사람들','왜냐하면','중의하나','오직','오로지','에 한하다','하기만 하면','도착하다','까지 미치다','도달하다','정도에 이르다','할 지경이다','결과에 이르다','관해서는','여러분','하고 있다','한 후','혼자','자기','자기집','자신','우에 종합한것과같이','총적으로 보면','총적으로 말하면','총적으로','대로 하다','으로서','참','그만이다','할 따름이다','쿵','탕탕','쾅쾅','둥둥','봐','봐라','아이야','아니','와아','응','아이','참나','년','월','일','령','영','일','이','삼','사','오','육','륙','칠','팔','구','이천육','이천칠','이천팔','이천구','하나','둘','셋','넷','다섯','여섯','일곱','여덟','아홉','령','영']"
   ]
  },
  {
   "cell_type": "code",
   "execution_count": 20,
   "id": "60fdffd7",
   "metadata": {},
   "outputs": [
    {
     "data": {
      "text/plain": [
       "675"
      ]
     },
     "execution_count": 20,
     "metadata": {},
     "output_type": "execute_result"
    }
   ],
   "source": [
    "len(my_stop_words)"
   ]
  },
  {
   "cell_type": "code",
   "execution_count": 21,
   "id": "5900bfe7",
   "metadata": {},
   "outputs": [
    {
     "name": "stderr",
     "output_type": "stream",
     "text": [
      "C:\\Users\\jinmi\\anaconda3\\Lib\\site-packages\\sklearn\\feature_extraction\\text.py:409: UserWarning: Your stop_words may be inconsistent with your preprocessing. Tokenizing the stop words generated tokens ['가서', '같은', '것과', '결과에', '결론을', '관계가', '관련이', '그런', '그럼에도', '그렇게', '그에', '그치지', '김에', '까닭에', '낫다', '년도', '논하지', '누가', '다시', '달려', '대로', '대해', '되는', '되다', '되어', '들면', '들자면', '듯하다', '따르는', '따름이다', '따지지', '때가', '만은', '만이', '만큼', '많은', '말하면', '말할것도', '몰라도', '몰랏다', '못하다', '미치다', '바꾸어서', '바꿔', '밖에', '방면으로', '보면', '보아', '부류의', '비길수', '비추어', '뿐만', '사람들', '상대적으로', '생각이다', '서술한바와같이', '쓰여', '아니다', '아니라', '안다', '안된다', '않고', '않기', '않는다면', '않다', '않다면', '않도록', '않으면', '알겠는가', '어쩔수', '어찌됏든', '없고', '없다', '예를', '외에', '요만한', '우에', '위에서', '이렇게', '이로', '이르다', '이와', '이유는', '인하여', '임에', '점에서', '정도에', '정도의', '종합한것과같이', '주저하지', '줄은', '지경이다', '틀림없다', '편이', '하고', '하기', '하기만', '하는', '하는것만', '하는것이', '하다', '하면', '하지', '한하다', '할수록', '함으로써', '해도', '해서는', '형식으로', '힘이'] not in stop_words.\n",
      "  warnings.warn(\n"
     ]
    }
   ],
   "source": [
    "# TF-IDF 벡터화, my_stop_words 불용어 적용\n",
    "tfidf_vectorizer = TfidfVectorizer(stop_words=my_stop_words)\n",
    "X = tfidf_vectorizer.fit_transform(df_all['processed_review'])"
   ]
  },
  {
   "cell_type": "code",
   "execution_count": 27,
   "id": "8746c90c",
   "metadata": {
    "scrolled": true
   },
   "outputs": [],
   "source": [
    "# 고유 단어 목록 추출\n",
    "feature_names = tfidf_vectorizer.get_feature_names_out()\n",
    "\n",
    "# DataFrame으로 변환\n",
    "df_tfidf = pd.DataFrame(X.toarray(), columns=feature_names)"
   ]
  },
  {
   "cell_type": "code",
   "execution_count": 28,
   "id": "2d15cac9",
   "metadata": {},
   "outputs": [
    {
     "data": {
      "text/html": [
       "<div>\n",
       "<style scoped>\n",
       "    .dataframe tbody tr th:only-of-type {\n",
       "        vertical-align: middle;\n",
       "    }\n",
       "\n",
       "    .dataframe tbody tr th {\n",
       "        vertical-align: top;\n",
       "    }\n",
       "\n",
       "    .dataframe thead th {\n",
       "        text-align: right;\n",
       "    }\n",
       "</style>\n",
       "<table border=\"1\" class=\"dataframe\">\n",
       "  <thead>\n",
       "    <tr style=\"text-align: right;\">\n",
       "      <th></th>\n",
       "      <th>가거</th>\n",
       "      <th>가게</th>\n",
       "      <th>가격</th>\n",
       "      <th>가격대</th>\n",
       "      <th>가격차이</th>\n",
       "      <th>가경</th>\n",
       "      <th>가공식품</th>\n",
       "      <th>가구</th>\n",
       "      <th>가까워다</th>\n",
       "      <th>가까이</th>\n",
       "      <th>...</th>\n",
       "      <th>힌두</th>\n",
       "      <th>힌트</th>\n",
       "      <th>힐러</th>\n",
       "      <th>힐링</th>\n",
       "      <th>힘겹다</th>\n",
       "      <th>힘들다</th>\n",
       "      <th>힘들이다</th>\n",
       "      <th>힘쓰다</th>\n",
       "      <th>힘없다</th>\n",
       "      <th>힘주다</th>\n",
       "    </tr>\n",
       "  </thead>\n",
       "  <tbody>\n",
       "    <tr>\n",
       "      <th>0</th>\n",
       "      <td>0.0</td>\n",
       "      <td>0.0</td>\n",
       "      <td>0.0</td>\n",
       "      <td>0.0</td>\n",
       "      <td>0.0</td>\n",
       "      <td>0.0</td>\n",
       "      <td>0.0</td>\n",
       "      <td>0.0</td>\n",
       "      <td>0.0</td>\n",
       "      <td>0.0</td>\n",
       "      <td>...</td>\n",
       "      <td>0.0</td>\n",
       "      <td>0.0</td>\n",
       "      <td>0.0</td>\n",
       "      <td>0.0</td>\n",
       "      <td>0.0</td>\n",
       "      <td>0.0</td>\n",
       "      <td>0.0</td>\n",
       "      <td>0.0</td>\n",
       "      <td>0.0</td>\n",
       "      <td>0.0</td>\n",
       "    </tr>\n",
       "    <tr>\n",
       "      <th>1</th>\n",
       "      <td>0.0</td>\n",
       "      <td>0.0</td>\n",
       "      <td>0.0</td>\n",
       "      <td>0.0</td>\n",
       "      <td>0.0</td>\n",
       "      <td>0.0</td>\n",
       "      <td>0.0</td>\n",
       "      <td>0.0</td>\n",
       "      <td>0.0</td>\n",
       "      <td>0.0</td>\n",
       "      <td>...</td>\n",
       "      <td>0.0</td>\n",
       "      <td>0.0</td>\n",
       "      <td>0.0</td>\n",
       "      <td>0.0</td>\n",
       "      <td>0.0</td>\n",
       "      <td>0.0</td>\n",
       "      <td>0.0</td>\n",
       "      <td>0.0</td>\n",
       "      <td>0.0</td>\n",
       "      <td>0.0</td>\n",
       "    </tr>\n",
       "    <tr>\n",
       "      <th>2</th>\n",
       "      <td>0.0</td>\n",
       "      <td>0.0</td>\n",
       "      <td>0.0</td>\n",
       "      <td>0.0</td>\n",
       "      <td>0.0</td>\n",
       "      <td>0.0</td>\n",
       "      <td>0.0</td>\n",
       "      <td>0.0</td>\n",
       "      <td>0.0</td>\n",
       "      <td>0.0</td>\n",
       "      <td>...</td>\n",
       "      <td>0.0</td>\n",
       "      <td>0.0</td>\n",
       "      <td>0.0</td>\n",
       "      <td>0.0</td>\n",
       "      <td>0.0</td>\n",
       "      <td>0.0</td>\n",
       "      <td>0.0</td>\n",
       "      <td>0.0</td>\n",
       "      <td>0.0</td>\n",
       "      <td>0.0</td>\n",
       "    </tr>\n",
       "    <tr>\n",
       "      <th>3</th>\n",
       "      <td>0.0</td>\n",
       "      <td>0.0</td>\n",
       "      <td>0.0</td>\n",
       "      <td>0.0</td>\n",
       "      <td>0.0</td>\n",
       "      <td>0.0</td>\n",
       "      <td>0.0</td>\n",
       "      <td>0.0</td>\n",
       "      <td>0.0</td>\n",
       "      <td>0.0</td>\n",
       "      <td>...</td>\n",
       "      <td>0.0</td>\n",
       "      <td>0.0</td>\n",
       "      <td>0.0</td>\n",
       "      <td>0.0</td>\n",
       "      <td>0.0</td>\n",
       "      <td>0.0</td>\n",
       "      <td>0.0</td>\n",
       "      <td>0.0</td>\n",
       "      <td>0.0</td>\n",
       "      <td>0.0</td>\n",
       "    </tr>\n",
       "    <tr>\n",
       "      <th>4</th>\n",
       "      <td>0.0</td>\n",
       "      <td>0.0</td>\n",
       "      <td>0.0</td>\n",
       "      <td>0.0</td>\n",
       "      <td>0.0</td>\n",
       "      <td>0.0</td>\n",
       "      <td>0.0</td>\n",
       "      <td>0.0</td>\n",
       "      <td>0.0</td>\n",
       "      <td>0.0</td>\n",
       "      <td>...</td>\n",
       "      <td>0.0</td>\n",
       "      <td>0.0</td>\n",
       "      <td>0.0</td>\n",
       "      <td>0.0</td>\n",
       "      <td>0.0</td>\n",
       "      <td>0.0</td>\n",
       "      <td>0.0</td>\n",
       "      <td>0.0</td>\n",
       "      <td>0.0</td>\n",
       "      <td>0.0</td>\n",
       "    </tr>\n",
       "    <tr>\n",
       "      <th>...</th>\n",
       "      <td>...</td>\n",
       "      <td>...</td>\n",
       "      <td>...</td>\n",
       "      <td>...</td>\n",
       "      <td>...</td>\n",
       "      <td>...</td>\n",
       "      <td>...</td>\n",
       "      <td>...</td>\n",
       "      <td>...</td>\n",
       "      <td>...</td>\n",
       "      <td>...</td>\n",
       "      <td>...</td>\n",
       "      <td>...</td>\n",
       "      <td>...</td>\n",
       "      <td>...</td>\n",
       "      <td>...</td>\n",
       "      <td>...</td>\n",
       "      <td>...</td>\n",
       "      <td>...</td>\n",
       "      <td>...</td>\n",
       "      <td>...</td>\n",
       "    </tr>\n",
       "    <tr>\n",
       "      <th>17354</th>\n",
       "      <td>0.0</td>\n",
       "      <td>0.0</td>\n",
       "      <td>0.0</td>\n",
       "      <td>0.0</td>\n",
       "      <td>0.0</td>\n",
       "      <td>0.0</td>\n",
       "      <td>0.0</td>\n",
       "      <td>0.0</td>\n",
       "      <td>0.0</td>\n",
       "      <td>0.0</td>\n",
       "      <td>...</td>\n",
       "      <td>0.0</td>\n",
       "      <td>0.0</td>\n",
       "      <td>0.0</td>\n",
       "      <td>0.0</td>\n",
       "      <td>0.0</td>\n",
       "      <td>0.0</td>\n",
       "      <td>0.0</td>\n",
       "      <td>0.0</td>\n",
       "      <td>0.0</td>\n",
       "      <td>0.0</td>\n",
       "    </tr>\n",
       "    <tr>\n",
       "      <th>17355</th>\n",
       "      <td>0.0</td>\n",
       "      <td>0.0</td>\n",
       "      <td>0.0</td>\n",
       "      <td>0.0</td>\n",
       "      <td>0.0</td>\n",
       "      <td>0.0</td>\n",
       "      <td>0.0</td>\n",
       "      <td>0.0</td>\n",
       "      <td>0.0</td>\n",
       "      <td>0.0</td>\n",
       "      <td>...</td>\n",
       "      <td>0.0</td>\n",
       "      <td>0.0</td>\n",
       "      <td>0.0</td>\n",
       "      <td>0.0</td>\n",
       "      <td>0.0</td>\n",
       "      <td>0.0</td>\n",
       "      <td>0.0</td>\n",
       "      <td>0.0</td>\n",
       "      <td>0.0</td>\n",
       "      <td>0.0</td>\n",
       "    </tr>\n",
       "    <tr>\n",
       "      <th>17356</th>\n",
       "      <td>0.0</td>\n",
       "      <td>0.0</td>\n",
       "      <td>0.0</td>\n",
       "      <td>0.0</td>\n",
       "      <td>0.0</td>\n",
       "      <td>0.0</td>\n",
       "      <td>0.0</td>\n",
       "      <td>0.0</td>\n",
       "      <td>0.0</td>\n",
       "      <td>0.0</td>\n",
       "      <td>...</td>\n",
       "      <td>0.0</td>\n",
       "      <td>0.0</td>\n",
       "      <td>0.0</td>\n",
       "      <td>0.0</td>\n",
       "      <td>0.0</td>\n",
       "      <td>0.0</td>\n",
       "      <td>0.0</td>\n",
       "      <td>0.0</td>\n",
       "      <td>0.0</td>\n",
       "      <td>0.0</td>\n",
       "    </tr>\n",
       "    <tr>\n",
       "      <th>17357</th>\n",
       "      <td>0.0</td>\n",
       "      <td>0.0</td>\n",
       "      <td>0.0</td>\n",
       "      <td>0.0</td>\n",
       "      <td>0.0</td>\n",
       "      <td>0.0</td>\n",
       "      <td>0.0</td>\n",
       "      <td>0.0</td>\n",
       "      <td>0.0</td>\n",
       "      <td>0.0</td>\n",
       "      <td>...</td>\n",
       "      <td>0.0</td>\n",
       "      <td>0.0</td>\n",
       "      <td>0.0</td>\n",
       "      <td>0.0</td>\n",
       "      <td>0.0</td>\n",
       "      <td>0.0</td>\n",
       "      <td>0.0</td>\n",
       "      <td>0.0</td>\n",
       "      <td>0.0</td>\n",
       "      <td>0.0</td>\n",
       "    </tr>\n",
       "    <tr>\n",
       "      <th>17358</th>\n",
       "      <td>0.0</td>\n",
       "      <td>0.0</td>\n",
       "      <td>0.0</td>\n",
       "      <td>0.0</td>\n",
       "      <td>0.0</td>\n",
       "      <td>0.0</td>\n",
       "      <td>0.0</td>\n",
       "      <td>0.0</td>\n",
       "      <td>0.0</td>\n",
       "      <td>0.0</td>\n",
       "      <td>...</td>\n",
       "      <td>0.0</td>\n",
       "      <td>0.0</td>\n",
       "      <td>0.0</td>\n",
       "      <td>0.0</td>\n",
       "      <td>0.0</td>\n",
       "      <td>0.0</td>\n",
       "      <td>0.0</td>\n",
       "      <td>0.0</td>\n",
       "      <td>0.0</td>\n",
       "      <td>0.0</td>\n",
       "    </tr>\n",
       "  </tbody>\n",
       "</table>\n",
       "<p>17359 rows × 9665 columns</p>\n",
       "</div>"
      ],
      "text/plain": [
       "        가거   가게   가격  가격대  가격차이   가경  가공식품   가구  가까워다  가까이  ...   힌두   힌트  \\\n",
       "0      0.0  0.0  0.0  0.0   0.0  0.0   0.0  0.0   0.0  0.0  ...  0.0  0.0   \n",
       "1      0.0  0.0  0.0  0.0   0.0  0.0   0.0  0.0   0.0  0.0  ...  0.0  0.0   \n",
       "2      0.0  0.0  0.0  0.0   0.0  0.0   0.0  0.0   0.0  0.0  ...  0.0  0.0   \n",
       "3      0.0  0.0  0.0  0.0   0.0  0.0   0.0  0.0   0.0  0.0  ...  0.0  0.0   \n",
       "4      0.0  0.0  0.0  0.0   0.0  0.0   0.0  0.0   0.0  0.0  ...  0.0  0.0   \n",
       "...    ...  ...  ...  ...   ...  ...   ...  ...   ...  ...  ...  ...  ...   \n",
       "17354  0.0  0.0  0.0  0.0   0.0  0.0   0.0  0.0   0.0  0.0  ...  0.0  0.0   \n",
       "17355  0.0  0.0  0.0  0.0   0.0  0.0   0.0  0.0   0.0  0.0  ...  0.0  0.0   \n",
       "17356  0.0  0.0  0.0  0.0   0.0  0.0   0.0  0.0   0.0  0.0  ...  0.0  0.0   \n",
       "17357  0.0  0.0  0.0  0.0   0.0  0.0   0.0  0.0   0.0  0.0  ...  0.0  0.0   \n",
       "17358  0.0  0.0  0.0  0.0   0.0  0.0   0.0  0.0   0.0  0.0  ...  0.0  0.0   \n",
       "\n",
       "        힐러   힐링  힘겹다  힘들다  힘들이다  힘쓰다  힘없다  힘주다  \n",
       "0      0.0  0.0  0.0  0.0   0.0  0.0  0.0  0.0  \n",
       "1      0.0  0.0  0.0  0.0   0.0  0.0  0.0  0.0  \n",
       "2      0.0  0.0  0.0  0.0   0.0  0.0  0.0  0.0  \n",
       "3      0.0  0.0  0.0  0.0   0.0  0.0  0.0  0.0  \n",
       "4      0.0  0.0  0.0  0.0   0.0  0.0  0.0  0.0  \n",
       "...    ...  ...  ...  ...   ...  ...  ...  ...  \n",
       "17354  0.0  0.0  0.0  0.0   0.0  0.0  0.0  0.0  \n",
       "17355  0.0  0.0  0.0  0.0   0.0  0.0  0.0  0.0  \n",
       "17356  0.0  0.0  0.0  0.0   0.0  0.0  0.0  0.0  \n",
       "17357  0.0  0.0  0.0  0.0   0.0  0.0  0.0  0.0  \n",
       "17358  0.0  0.0  0.0  0.0   0.0  0.0  0.0  0.0  \n",
       "\n",
       "[17359 rows x 9665 columns]"
      ]
     },
     "execution_count": 28,
     "metadata": {},
     "output_type": "execute_result"
    }
   ],
   "source": [
    "df_tfidf"
   ]
  },
  {
   "cell_type": "code",
   "execution_count": 23,
   "id": "8e2cea10",
   "metadata": {},
   "outputs": [],
   "source": [
    "# 원본 리뷰 텍스트와 라벨을 함께 분리\n",
    "from sklearn.model_selection import train_test_split\n",
    "X_train_texts, X_test_texts, y_train, y_test = train_test_split(\n",
    "    df_all['processed_review'], df_all['label'], test_size=0.2, random_state=42)"
   ]
  },
  {
   "cell_type": "code",
   "execution_count": 24,
   "id": "c13f8bc9",
   "metadata": {},
   "outputs": [],
   "source": [
    "# TF-IDF 벡터화 (훈련 데이터에만 fit_transform 적용)\n",
    "X_train = tfidf_vectorizer.fit_transform(X_train_texts)\n",
    "X_test = tfidf_vectorizer.transform(X_test_texts)"
   ]
  },
  {
   "cell_type": "code",
   "execution_count": 26,
   "id": "c8404717",
   "metadata": {},
   "outputs": [],
   "source": [
    "# 교차 검증을 위한 파라미터 범위 지정\n",
    "import numpy as np\n",
    "alphas = np.logspace(-6, 6, 13)"
   ]
  },
  {
   "cell_type": "markdown",
   "id": "ab571e8a",
   "metadata": {},
   "source": [
    "## 모델링 Start(릿지, 라쏘, 엘라스틱넷)"
   ]
  },
  {
   "cell_type": "code",
   "execution_count": 28,
   "id": "213b17a4",
   "metadata": {},
   "outputs": [],
   "source": [
    "from sklearn.linear_model import Ridge, Lasso, ElasticNet\n",
    "from sklearn.linear_model import RidgeCV, LassoCV, ElasticNetCV\n",
    "from sklearn.metrics import accuracy_score\n",
    "from sklearn.model_selection import cross_val_score\n",
    "from sklearn.model_selection import GridSearchCV"
   ]
  },
  {
   "cell_type": "code",
   "execution_count": 29,
   "id": "91549fa6",
   "metadata": {},
   "outputs": [
    {
     "data": {
      "text/html": [
       "<style>#sk-container-id-1 {color: black;background-color: white;}#sk-container-id-1 pre{padding: 0;}#sk-container-id-1 div.sk-toggleable {background-color: white;}#sk-container-id-1 label.sk-toggleable__label {cursor: pointer;display: block;width: 100%;margin-bottom: 0;padding: 0.3em;box-sizing: border-box;text-align: center;}#sk-container-id-1 label.sk-toggleable__label-arrow:before {content: \"▸\";float: left;margin-right: 0.25em;color: #696969;}#sk-container-id-1 label.sk-toggleable__label-arrow:hover:before {color: black;}#sk-container-id-1 div.sk-estimator:hover label.sk-toggleable__label-arrow:before {color: black;}#sk-container-id-1 div.sk-toggleable__content {max-height: 0;max-width: 0;overflow: hidden;text-align: left;background-color: #f0f8ff;}#sk-container-id-1 div.sk-toggleable__content pre {margin: 0.2em;color: black;border-radius: 0.25em;background-color: #f0f8ff;}#sk-container-id-1 input.sk-toggleable__control:checked~div.sk-toggleable__content {max-height: 200px;max-width: 100%;overflow: auto;}#sk-container-id-1 input.sk-toggleable__control:checked~label.sk-toggleable__label-arrow:before {content: \"▾\";}#sk-container-id-1 div.sk-estimator input.sk-toggleable__control:checked~label.sk-toggleable__label {background-color: #d4ebff;}#sk-container-id-1 div.sk-label input.sk-toggleable__control:checked~label.sk-toggleable__label {background-color: #d4ebff;}#sk-container-id-1 input.sk-hidden--visually {border: 0;clip: rect(1px 1px 1px 1px);clip: rect(1px, 1px, 1px, 1px);height: 1px;margin: -1px;overflow: hidden;padding: 0;position: absolute;width: 1px;}#sk-container-id-1 div.sk-estimator {font-family: monospace;background-color: #f0f8ff;border: 1px dotted black;border-radius: 0.25em;box-sizing: border-box;margin-bottom: 0.5em;}#sk-container-id-1 div.sk-estimator:hover {background-color: #d4ebff;}#sk-container-id-1 div.sk-parallel-item::after {content: \"\";width: 100%;border-bottom: 1px solid gray;flex-grow: 1;}#sk-container-id-1 div.sk-label:hover label.sk-toggleable__label {background-color: #d4ebff;}#sk-container-id-1 div.sk-serial::before {content: \"\";position: absolute;border-left: 1px solid gray;box-sizing: border-box;top: 0;bottom: 0;left: 50%;z-index: 0;}#sk-container-id-1 div.sk-serial {display: flex;flex-direction: column;align-items: center;background-color: white;padding-right: 0.2em;padding-left: 0.2em;position: relative;}#sk-container-id-1 div.sk-item {position: relative;z-index: 1;}#sk-container-id-1 div.sk-parallel {display: flex;align-items: stretch;justify-content: center;background-color: white;position: relative;}#sk-container-id-1 div.sk-item::before, #sk-container-id-1 div.sk-parallel-item::before {content: \"\";position: absolute;border-left: 1px solid gray;box-sizing: border-box;top: 0;bottom: 0;left: 50%;z-index: -1;}#sk-container-id-1 div.sk-parallel-item {display: flex;flex-direction: column;z-index: 1;position: relative;background-color: white;}#sk-container-id-1 div.sk-parallel-item:first-child::after {align-self: flex-end;width: 50%;}#sk-container-id-1 div.sk-parallel-item:last-child::after {align-self: flex-start;width: 50%;}#sk-container-id-1 div.sk-parallel-item:only-child::after {width: 0;}#sk-container-id-1 div.sk-dashed-wrapped {border: 1px dashed gray;margin: 0 0.4em 0.5em 0.4em;box-sizing: border-box;padding-bottom: 0.4em;background-color: white;}#sk-container-id-1 div.sk-label label {font-family: monospace;font-weight: bold;display: inline-block;line-height: 1.2em;}#sk-container-id-1 div.sk-label-container {text-align: center;}#sk-container-id-1 div.sk-container {/* jupyter's `normalize.less` sets `[hidden] { display: none; }` but bootstrap.min.css set `[hidden] { display: none !important; }` so we also need the `!important` here to be able to override the default hidden behavior on the sphinx rendered scikit-learn.org. See: https://github.com/scikit-learn/scikit-learn/issues/21755 */display: inline-block !important;position: relative;}#sk-container-id-1 div.sk-text-repr-fallback {display: none;}</style><div id=\"sk-container-id-1\" class=\"sk-top-container\"><div class=\"sk-text-repr-fallback\"><pre>RidgeCV(alphas=array([1.e-06, 1.e-05, 1.e-04, 1.e-03, 1.e-02, 1.e-01, 1.e+00, 1.e+01,\n",
       "       1.e+02, 1.e+03, 1.e+04, 1.e+05, 1.e+06]),\n",
       "        cv=5)</pre><b>In a Jupyter environment, please rerun this cell to show the HTML representation or trust the notebook. <br />On GitHub, the HTML representation is unable to render, please try loading this page with nbviewer.org.</b></div><div class=\"sk-container\" hidden><div class=\"sk-item\"><div class=\"sk-estimator sk-toggleable\"><input class=\"sk-toggleable__control sk-hidden--visually\" id=\"sk-estimator-id-1\" type=\"checkbox\" checked><label for=\"sk-estimator-id-1\" class=\"sk-toggleable__label sk-toggleable__label-arrow\">RidgeCV</label><div class=\"sk-toggleable__content\"><pre>RidgeCV(alphas=array([1.e-06, 1.e-05, 1.e-04, 1.e-03, 1.e-02, 1.e-01, 1.e+00, 1.e+01,\n",
       "       1.e+02, 1.e+03, 1.e+04, 1.e+05, 1.e+06]),\n",
       "        cv=5)</pre></div></div></div></div></div>"
      ],
      "text/plain": [
       "RidgeCV(alphas=array([1.e-06, 1.e-05, 1.e-04, 1.e-03, 1.e-02, 1.e-01, 1.e+00, 1.e+01,\n",
       "       1.e+02, 1.e+03, 1.e+04, 1.e+05, 1.e+06]),\n",
       "        cv=5)"
      ]
     },
     "execution_count": 29,
     "metadata": {},
     "output_type": "execute_result"
    }
   ],
   "source": [
    "# 릿지 회귀\n",
    "ridge_cv = RidgeCV(alphas=alphas, cv=5)\n",
    "ridge_cv.fit(X_train, y_train)"
   ]
  },
  {
   "cell_type": "code",
   "execution_count": 54,
   "id": "06e53cf0",
   "metadata": {},
   "outputs": [],
   "source": [
    "# 릿지모델 저장 코드\n",
    "with open('ridge_cv.pkl', 'wb') as fw:\n",
    "    pickle.dump(ridge_cv, fw)"
   ]
  },
  {
   "cell_type": "code",
   "execution_count": 55,
   "id": "19ad7190",
   "metadata": {},
   "outputs": [],
   "source": [
    "# Load the saved RidgeCV model(저장된 모델들 불러오는 코드)\n",
    "with open('ridge_cv.pkl', 'rb') as fr:\n",
    "    loaded_ridge_cv = pickle.load(fr)"
   ]
  },
  {
   "cell_type": "code",
   "execution_count": 30,
   "id": "cbb6d854",
   "metadata": {},
   "outputs": [
    {
     "name": "stderr",
     "output_type": "stream",
     "text": [
      "C:\\Users\\jinmi\\anaconda3\\Lib\\site-packages\\sklearn\\linear_model\\_coordinate_descent.py:592: ConvergenceWarning: Objective did not converge. You might want to increase the number of iterations. Duality gap: 0.10235653170337855, tolerance: 0.051013844630479754\n",
      "  model = cd_fast.sparse_enet_coordinate_descent(\n",
      "C:\\Users\\jinmi\\anaconda3\\Lib\\site-packages\\sklearn\\linear_model\\_coordinate_descent.py:592: ConvergenceWarning: Objective did not converge. You might want to increase the number of iterations. Duality gap: 0.1399105827290441, tolerance: 0.052276982626699046\n",
      "  model = cd_fast.sparse_enet_coordinate_descent(\n"
     ]
    },
    {
     "data": {
      "text/html": [
       "<style>#sk-container-id-2 {color: black;background-color: white;}#sk-container-id-2 pre{padding: 0;}#sk-container-id-2 div.sk-toggleable {background-color: white;}#sk-container-id-2 label.sk-toggleable__label {cursor: pointer;display: block;width: 100%;margin-bottom: 0;padding: 0.3em;box-sizing: border-box;text-align: center;}#sk-container-id-2 label.sk-toggleable__label-arrow:before {content: \"▸\";float: left;margin-right: 0.25em;color: #696969;}#sk-container-id-2 label.sk-toggleable__label-arrow:hover:before {color: black;}#sk-container-id-2 div.sk-estimator:hover label.sk-toggleable__label-arrow:before {color: black;}#sk-container-id-2 div.sk-toggleable__content {max-height: 0;max-width: 0;overflow: hidden;text-align: left;background-color: #f0f8ff;}#sk-container-id-2 div.sk-toggleable__content pre {margin: 0.2em;color: black;border-radius: 0.25em;background-color: #f0f8ff;}#sk-container-id-2 input.sk-toggleable__control:checked~div.sk-toggleable__content {max-height: 200px;max-width: 100%;overflow: auto;}#sk-container-id-2 input.sk-toggleable__control:checked~label.sk-toggleable__label-arrow:before {content: \"▾\";}#sk-container-id-2 div.sk-estimator input.sk-toggleable__control:checked~label.sk-toggleable__label {background-color: #d4ebff;}#sk-container-id-2 div.sk-label input.sk-toggleable__control:checked~label.sk-toggleable__label {background-color: #d4ebff;}#sk-container-id-2 input.sk-hidden--visually {border: 0;clip: rect(1px 1px 1px 1px);clip: rect(1px, 1px, 1px, 1px);height: 1px;margin: -1px;overflow: hidden;padding: 0;position: absolute;width: 1px;}#sk-container-id-2 div.sk-estimator {font-family: monospace;background-color: #f0f8ff;border: 1px dotted black;border-radius: 0.25em;box-sizing: border-box;margin-bottom: 0.5em;}#sk-container-id-2 div.sk-estimator:hover {background-color: #d4ebff;}#sk-container-id-2 div.sk-parallel-item::after {content: \"\";width: 100%;border-bottom: 1px solid gray;flex-grow: 1;}#sk-container-id-2 div.sk-label:hover label.sk-toggleable__label {background-color: #d4ebff;}#sk-container-id-2 div.sk-serial::before {content: \"\";position: absolute;border-left: 1px solid gray;box-sizing: border-box;top: 0;bottom: 0;left: 50%;z-index: 0;}#sk-container-id-2 div.sk-serial {display: flex;flex-direction: column;align-items: center;background-color: white;padding-right: 0.2em;padding-left: 0.2em;position: relative;}#sk-container-id-2 div.sk-item {position: relative;z-index: 1;}#sk-container-id-2 div.sk-parallel {display: flex;align-items: stretch;justify-content: center;background-color: white;position: relative;}#sk-container-id-2 div.sk-item::before, #sk-container-id-2 div.sk-parallel-item::before {content: \"\";position: absolute;border-left: 1px solid gray;box-sizing: border-box;top: 0;bottom: 0;left: 50%;z-index: -1;}#sk-container-id-2 div.sk-parallel-item {display: flex;flex-direction: column;z-index: 1;position: relative;background-color: white;}#sk-container-id-2 div.sk-parallel-item:first-child::after {align-self: flex-end;width: 50%;}#sk-container-id-2 div.sk-parallel-item:last-child::after {align-self: flex-start;width: 50%;}#sk-container-id-2 div.sk-parallel-item:only-child::after {width: 0;}#sk-container-id-2 div.sk-dashed-wrapped {border: 1px dashed gray;margin: 0 0.4em 0.5em 0.4em;box-sizing: border-box;padding-bottom: 0.4em;background-color: white;}#sk-container-id-2 div.sk-label label {font-family: monospace;font-weight: bold;display: inline-block;line-height: 1.2em;}#sk-container-id-2 div.sk-label-container {text-align: center;}#sk-container-id-2 div.sk-container {/* jupyter's `normalize.less` sets `[hidden] { display: none; }` but bootstrap.min.css set `[hidden] { display: none !important; }` so we also need the `!important` here to be able to override the default hidden behavior on the sphinx rendered scikit-learn.org. See: https://github.com/scikit-learn/scikit-learn/issues/21755 */display: inline-block !important;position: relative;}#sk-container-id-2 div.sk-text-repr-fallback {display: none;}</style><div id=\"sk-container-id-2\" class=\"sk-top-container\"><div class=\"sk-text-repr-fallback\"><pre>LassoCV(alphas=array([1.e-06, 1.e-05, 1.e-04, 1.e-03, 1.e-02, 1.e-01, 1.e+00, 1.e+01,\n",
       "       1.e+02, 1.e+03, 1.e+04, 1.e+05, 1.e+06]),\n",
       "        cv=5)</pre><b>In a Jupyter environment, please rerun this cell to show the HTML representation or trust the notebook. <br />On GitHub, the HTML representation is unable to render, please try loading this page with nbviewer.org.</b></div><div class=\"sk-container\" hidden><div class=\"sk-item\"><div class=\"sk-estimator sk-toggleable\"><input class=\"sk-toggleable__control sk-hidden--visually\" id=\"sk-estimator-id-2\" type=\"checkbox\" checked><label for=\"sk-estimator-id-2\" class=\"sk-toggleable__label sk-toggleable__label-arrow\">LassoCV</label><div class=\"sk-toggleable__content\"><pre>LassoCV(alphas=array([1.e-06, 1.e-05, 1.e-04, 1.e-03, 1.e-02, 1.e-01, 1.e+00, 1.e+01,\n",
       "       1.e+02, 1.e+03, 1.e+04, 1.e+05, 1.e+06]),\n",
       "        cv=5)</pre></div></div></div></div></div>"
      ],
      "text/plain": [
       "LassoCV(alphas=array([1.e-06, 1.e-05, 1.e-04, 1.e-03, 1.e-02, 1.e-01, 1.e+00, 1.e+01,\n",
       "       1.e+02, 1.e+03, 1.e+04, 1.e+05, 1.e+06]),\n",
       "        cv=5)"
      ]
     },
     "execution_count": 30,
     "metadata": {},
     "output_type": "execute_result"
    }
   ],
   "source": [
    "# 라쏘 회귀\n",
    "lasso_cv = LassoCV(alphas=alphas, cv=5)\n",
    "lasso_cv.fit(X_train, y_train)"
   ]
  },
  {
   "cell_type": "code",
   "execution_count": 56,
   "id": "7e6e2dfe",
   "metadata": {},
   "outputs": [],
   "source": [
    "# 라쏘모델 저장 코드\n",
    "with open('lasso_cv.pkl', 'wb') as fw:\n",
    "    pickle.dump(ridge_cv, fw)"
   ]
  },
  {
   "cell_type": "code",
   "execution_count": 57,
   "id": "aa75e16d",
   "metadata": {},
   "outputs": [],
   "source": [
    "# 라쏘( 불러오는 코드)\n",
    "with open('lasso_cv.pkl', 'rb') as fr:\n",
    "    loaded_lasso_cv = pickle.load(fr)"
   ]
  },
  {
   "cell_type": "code",
   "execution_count": 31,
   "id": "2c26748c",
   "metadata": {},
   "outputs": [
    {
     "name": "stderr",
     "output_type": "stream",
     "text": [
      "C:\\Users\\jinmi\\anaconda3\\Lib\\site-packages\\sklearn\\linear_model\\_coordinate_descent.py:592: ConvergenceWarning: Objective did not converge. You might want to increase the number of iterations. Duality gap: 0.11558633141808627, tolerance: 0.052276982626699046\n",
      "  model = cd_fast.sparse_enet_coordinate_descent(\n",
      "C:\\Users\\jinmi\\anaconda3\\Lib\\site-packages\\sklearn\\linear_model\\_coordinate_descent.py:592: ConvergenceWarning: Objective did not converge. You might want to increase the number of iterations. Duality gap: 0.09104913264209813, tolerance: 0.05137533753375336\n",
      "  model = cd_fast.sparse_enet_coordinate_descent(\n",
      "C:\\Users\\jinmi\\anaconda3\\Lib\\site-packages\\sklearn\\linear_model\\_coordinate_descent.py:592: ConvergenceWarning: Objective did not converge. You might want to increase the number of iterations. Duality gap: 0.06385906764427318, tolerance: 0.05182650765076509\n",
      "  model = cd_fast.sparse_enet_coordinate_descent(\n"
     ]
    },
    {
     "data": {
      "text/html": [
       "<style>#sk-container-id-3 {color: black;background-color: white;}#sk-container-id-3 pre{padding: 0;}#sk-container-id-3 div.sk-toggleable {background-color: white;}#sk-container-id-3 label.sk-toggleable__label {cursor: pointer;display: block;width: 100%;margin-bottom: 0;padding: 0.3em;box-sizing: border-box;text-align: center;}#sk-container-id-3 label.sk-toggleable__label-arrow:before {content: \"▸\";float: left;margin-right: 0.25em;color: #696969;}#sk-container-id-3 label.sk-toggleable__label-arrow:hover:before {color: black;}#sk-container-id-3 div.sk-estimator:hover label.sk-toggleable__label-arrow:before {color: black;}#sk-container-id-3 div.sk-toggleable__content {max-height: 0;max-width: 0;overflow: hidden;text-align: left;background-color: #f0f8ff;}#sk-container-id-3 div.sk-toggleable__content pre {margin: 0.2em;color: black;border-radius: 0.25em;background-color: #f0f8ff;}#sk-container-id-3 input.sk-toggleable__control:checked~div.sk-toggleable__content {max-height: 200px;max-width: 100%;overflow: auto;}#sk-container-id-3 input.sk-toggleable__control:checked~label.sk-toggleable__label-arrow:before {content: \"▾\";}#sk-container-id-3 div.sk-estimator input.sk-toggleable__control:checked~label.sk-toggleable__label {background-color: #d4ebff;}#sk-container-id-3 div.sk-label input.sk-toggleable__control:checked~label.sk-toggleable__label {background-color: #d4ebff;}#sk-container-id-3 input.sk-hidden--visually {border: 0;clip: rect(1px 1px 1px 1px);clip: rect(1px, 1px, 1px, 1px);height: 1px;margin: -1px;overflow: hidden;padding: 0;position: absolute;width: 1px;}#sk-container-id-3 div.sk-estimator {font-family: monospace;background-color: #f0f8ff;border: 1px dotted black;border-radius: 0.25em;box-sizing: border-box;margin-bottom: 0.5em;}#sk-container-id-3 div.sk-estimator:hover {background-color: #d4ebff;}#sk-container-id-3 div.sk-parallel-item::after {content: \"\";width: 100%;border-bottom: 1px solid gray;flex-grow: 1;}#sk-container-id-3 div.sk-label:hover label.sk-toggleable__label {background-color: #d4ebff;}#sk-container-id-3 div.sk-serial::before {content: \"\";position: absolute;border-left: 1px solid gray;box-sizing: border-box;top: 0;bottom: 0;left: 50%;z-index: 0;}#sk-container-id-3 div.sk-serial {display: flex;flex-direction: column;align-items: center;background-color: white;padding-right: 0.2em;padding-left: 0.2em;position: relative;}#sk-container-id-3 div.sk-item {position: relative;z-index: 1;}#sk-container-id-3 div.sk-parallel {display: flex;align-items: stretch;justify-content: center;background-color: white;position: relative;}#sk-container-id-3 div.sk-item::before, #sk-container-id-3 div.sk-parallel-item::before {content: \"\";position: absolute;border-left: 1px solid gray;box-sizing: border-box;top: 0;bottom: 0;left: 50%;z-index: -1;}#sk-container-id-3 div.sk-parallel-item {display: flex;flex-direction: column;z-index: 1;position: relative;background-color: white;}#sk-container-id-3 div.sk-parallel-item:first-child::after {align-self: flex-end;width: 50%;}#sk-container-id-3 div.sk-parallel-item:last-child::after {align-self: flex-start;width: 50%;}#sk-container-id-3 div.sk-parallel-item:only-child::after {width: 0;}#sk-container-id-3 div.sk-dashed-wrapped {border: 1px dashed gray;margin: 0 0.4em 0.5em 0.4em;box-sizing: border-box;padding-bottom: 0.4em;background-color: white;}#sk-container-id-3 div.sk-label label {font-family: monospace;font-weight: bold;display: inline-block;line-height: 1.2em;}#sk-container-id-3 div.sk-label-container {text-align: center;}#sk-container-id-3 div.sk-container {/* jupyter's `normalize.less` sets `[hidden] { display: none; }` but bootstrap.min.css set `[hidden] { display: none !important; }` so we also need the `!important` here to be able to override the default hidden behavior on the sphinx rendered scikit-learn.org. See: https://github.com/scikit-learn/scikit-learn/issues/21755 */display: inline-block !important;position: relative;}#sk-container-id-3 div.sk-text-repr-fallback {display: none;}</style><div id=\"sk-container-id-3\" class=\"sk-top-container\"><div class=\"sk-text-repr-fallback\"><pre>ElasticNetCV(alphas=array([1.e-06, 1.e-05, 1.e-04, 1.e-03, 1.e-02, 1.e-01, 1.e+00, 1.e+01,\n",
       "       1.e+02, 1.e+03, 1.e+04, 1.e+05, 1.e+06]),\n",
       "             cv=5)</pre><b>In a Jupyter environment, please rerun this cell to show the HTML representation or trust the notebook. <br />On GitHub, the HTML representation is unable to render, please try loading this page with nbviewer.org.</b></div><div class=\"sk-container\" hidden><div class=\"sk-item\"><div class=\"sk-estimator sk-toggleable\"><input class=\"sk-toggleable__control sk-hidden--visually\" id=\"sk-estimator-id-3\" type=\"checkbox\" checked><label for=\"sk-estimator-id-3\" class=\"sk-toggleable__label sk-toggleable__label-arrow\">ElasticNetCV</label><div class=\"sk-toggleable__content\"><pre>ElasticNetCV(alphas=array([1.e-06, 1.e-05, 1.e-04, 1.e-03, 1.e-02, 1.e-01, 1.e+00, 1.e+01,\n",
       "       1.e+02, 1.e+03, 1.e+04, 1.e+05, 1.e+06]),\n",
       "             cv=5)</pre></div></div></div></div></div>"
      ],
      "text/plain": [
       "ElasticNetCV(alphas=array([1.e-06, 1.e-05, 1.e-04, 1.e-03, 1.e-02, 1.e-01, 1.e+00, 1.e+01,\n",
       "       1.e+02, 1.e+03, 1.e+04, 1.e+05, 1.e+06]),\n",
       "             cv=5)"
      ]
     },
     "execution_count": 31,
     "metadata": {},
     "output_type": "execute_result"
    }
   ],
   "source": [
    "# 엘라스틱넷\n",
    "elastic_cv = ElasticNetCV(alphas=alphas, cv=5)\n",
    "elastic_cv.fit(X_train, y_train)"
   ]
  },
  {
   "cell_type": "code",
   "execution_count": 58,
   "id": "8317effc",
   "metadata": {},
   "outputs": [],
   "source": [
    "# 라쏘모델 저장 코드\n",
    "with open('elastic_cv.pkl', 'wb') as fw:\n",
    "    pickle.dump(elastic_cv, fw)"
   ]
  },
  {
   "cell_type": "code",
   "execution_count": 59,
   "id": "0bd5b1ed",
   "metadata": {},
   "outputs": [],
   "source": [
    "# 엘라스틱넷( 불러오는 코드)\n",
    "with open('lasso_cv.pkl', 'rb') as fr:\n",
    "    loaded_elastic_cv = pickle.load(fr)"
   ]
  },
  {
   "cell_type": "code",
   "execution_count": 34,
   "id": "f6d242d1",
   "metadata": {},
   "outputs": [
    {
     "data": {
      "text/plain": [
       "array(['가거', '가게', '가격', ..., '힘쓰다', '힘없다', '힘주다'], dtype=object)"
      ]
     },
     "execution_count": 34,
     "metadata": {},
     "output_type": "execute_result"
    }
   ],
   "source": [
    "# TF-IDF 벡터화 과정에서 생성된 고유 단어 목록을 추출\n",
    "feature_names = tfidf_vectorizer.get_feature_names_out()\n",
    "feature_names"
   ]
  },
  {
   "cell_type": "code",
   "execution_count": 35,
   "id": "6c62982b",
   "metadata": {},
   "outputs": [],
   "source": [
    "# 감정 점수 계산 함수\n",
    "def calculate_sentiment_score(model_coefficients, feature_names, text):\n",
    "    score = 0\n",
    "    words = text.split()\n",
    "    for word in words:\n",
    "        if word in feature_names:\n",
    "            index = np.where(feature_names == word)[0][0]\n",
    "            score += model_coefficients[index]\n",
    "    return score"
   ]
  },
  {
   "cell_type": "code",
   "execution_count": 36,
   "id": "8a868b55",
   "metadata": {},
   "outputs": [],
   "source": [
    "# 모델 성능 평가 함수\n",
    "def evaluate_model_sentiment(model, X_texts, y, feature_names):\n",
    "    test_scores = [calculate_sentiment_score(model.coef_, feature_names, text) \n",
    "                   for text in X_texts]\n",
    "    predicted_labels = [1 if score > 0 else 0 for score in test_scores]\n",
    "    accuracy = accuracy_score(y, predicted_labels)\n",
    "    return accuracy"
   ]
  },
  {
   "cell_type": "markdown",
   "id": "de06c6b7",
   "metadata": {},
   "source": [
    "## 모델들 성능 검증 평가"
   ]
  },
  {
   "cell_type": "code",
   "execution_count": 37,
   "id": "44ea09f3",
   "metadata": {},
   "outputs": [
    {
     "name": "stdout",
     "output_type": "stream",
     "text": [
      "릿지 정확도:0.8101958525345622\n"
     ]
    }
   ],
   "source": [
    "# 릿지 모델 평가\n",
    "ridge_test_accuracy = evaluate_model_sentiment(ridge_cv, X_test_texts, y_test, feature_names)\n",
    "print(f\"릿지 정확도:{ridge_test_accuracy}\")"
   ]
  },
  {
   "cell_type": "code",
   "execution_count": 40,
   "id": "1a260564",
   "metadata": {},
   "outputs": [
    {
     "name": "stdout",
     "output_type": "stream",
     "text": [
      "라쏘 정확도:0.7548963133640553\n"
     ]
    }
   ],
   "source": [
    "# 라쏘 모델 평가\n",
    "lasso_test_accuracy = evaluate_model_sentiment(lasso_cv, X_test_texts, y_test, feature_names)\n",
    "print(f\"라쏘 정확도:{lasso_test_accuracy}\")"
   ]
  },
  {
   "cell_type": "code",
   "execution_count": 39,
   "id": "ecea60ae",
   "metadata": {},
   "outputs": [
    {
     "name": "stdout",
     "output_type": "stream",
     "text": [
      "엘라스틱넷 정확도: 0.7523041474654378\n"
     ]
    }
   ],
   "source": [
    "# 엘라스틱넷 모델 평가\n",
    "elastic_test_accuracy = evaluate_model_sentiment(elastic_cv, X_test_texts, y_test, feature_names)\n",
    "print(f\"엘라스틱넷 정확도: {elastic_test_accuracy}\")"
   ]
  },
  {
   "cell_type": "markdown",
   "id": "c9d3e9a3",
   "metadata": {},
   "source": [
    "## 모델별 감성사전"
   ]
  },
  {
   "cell_type": "code",
   "execution_count": 42,
   "id": "ce101977",
   "metadata": {},
   "outputs": [],
   "source": [
    "# 감정사전 추출 함수(회귀계수>0: 긍정사전에 추가, 회귀계수<0: 부정사전에 추가)\n",
    "def extract_sentiment_dictionary(model, feature_names):\n",
    "    coefficients = model.coef_\n",
    "    positive_words = feature_names[coefficients > 0]\n",
    "    negative_words = feature_names[coefficients < 0]\n",
    "    return positive_words, negative_words"
   ]
  },
  {
   "cell_type": "markdown",
   "id": "24e233b1",
   "metadata": {},
   "source": [
    "# 1. 릿지 모델 감성사전"
   ]
  },
  {
   "cell_type": "code",
   "execution_count": 43,
   "id": "67d526db",
   "metadata": {},
   "outputs": [
    {
     "name": "stdout",
     "output_type": "stream",
     "text": [
      "릿지 회귀 - 긍정: ['가거' '가게' '가격' ... '힘쓰다' '힘없다' '힘주다']\n",
      "릿지 회귀 - 부정: ['가까워다' '가까이' '가깝다' ... '흰색' '히아신스' '히피']\n"
     ]
    }
   ],
   "source": [
    "# 릿지 모델 감정사전 추출\n",
    "positive_words_ridge, negative_words_ridge = extract_sentiment_dictionary(ridge_cv, feature_names)\n",
    "print(\"릿지 회귀 - 긍정:\", positive_words_ridge)\n",
    "print(\"릿지 회귀 - 부정:\", negative_words_ridge)"
   ]
  },
  {
   "cell_type": "code",
   "execution_count": 65,
   "id": "bf626117",
   "metadata": {},
   "outputs": [
    {
     "name": "stdout",
     "output_type": "stream",
     "text": [
      "가까워다 가까이 가깝다 가늘다 가다 가두다 가라앉히다 가량 가려보다 가렵다 가뭄 가사 가약 가오 가요 가장 가정 가지 가짜 간만 간식 간이 간조 간지 간지럽다 간채 갈고다 갈리다 갈색빛 갈아타다 갈치 감당 감미 감사 감수 감염 감저 감쪽같다 감호 강도 강아지 강의 강점 강제 강하 갖다 갖추다 같아지다 개기름 개똥 개리 개별 개봉 개선 개성적 개인 개인적 개인차 개작 거도 거란 거리 거리다 거여 거울 건강 건강식품 건드리다 건성 건지다 걸다 걸레 걸리다 걸치다 검수 검은색 겉면 겨울비 격일 결과 결론 결막염 결부 결제 결함 결혼기념일 겸용 겹치다 경우 고갈 고객 고객센터 고건 고깃집 고노 고다 고디 고려 고민중 고발 고보 고생 고속 고손 고어 고올 고요아침 고유 고장 고전 고정 고제 고집 고쳐다 고하다 고한 고호 곰팡이 곱다 곱창 공간 공갈 공기 공들이다 공장 공장부 과거 과다 과대광고 과대평가 과로 과언 과장 과전 과하다 관계자 관리하다 관상 관심 관자놀이 광고 광고인 광대 광채 광화 괜찮다 교육 교환 교훈 구기다 구독자 구리다 구립 구버 구분 구석 구처 구하다 국내외 굴곡 굴리다 굵기 궁금하다 권하다 권하진 귀신 귀찬다 균형 그라다 그러다 그러하다 그렇다 그레이스 그루 그리다 그리하다 그림자 그을다 그을리다 그을음 그전 그지 극성 극소량 극적 극지 극찬 근래 근처 글로우 글자 긁다 긁히다 금방 금식 급하다 기다 기대 기대다 기도 기름 기름때 기름종이 기름지다 기본 기분 기사 기수 기술 기시다 기업 기자 기재 기저 기존 기한 기회 기획력 긴급 긷다 길다 길들이다 길이 길지 까다 까다롭다 깎이다 깔때 깔리다 깨다 깨지다 꺼내다 껍질 꼬마 꼽다 꾸미다 끈덕지다 끌다 끌레 끝내다 끝물 끼다 끼우다 끼이다 나나 나누다 나다 나들이 나머지 나무 나무껍질 나쁘다 나시 나신 나아지다 나오다 나위 나진 낚다 낚이다 난가 난관 난리 난장판 날뛰다 날라가다 날림 날수 날아가다 날아다니다 날짜 남고 남구 남기다 남길수 남다르다 남모르다 남복 남서 남성 남성적 남아나다 남자애 남친 남평 낭군 낭낭 낭비 낭패 낮다 낮추다 내가다 내년 내다 내리다 내신 내역 내용물 내장 내지 내츄럴 냄새 냄새나다 너리 넘기다 넘다 넘버 넘어가다 넘치다 넣다 네모 네시 노란색 노랑 노랗다 노려보다 노리다 노소 노출 녹아나다 녹차 논란 논바닥 놀다 놀이 농담 농익다 놓다 누다 누락 누렇다 누르다 눈가 눈감다 눈두덩이 눈뜨다 눌다 눕히다 느끼다 느낌 늘어지다 다가오다 다곤 다과 다구 다능 다니다 다다 다다르다 다당 다르다 다름 다리 다리다 다모 다부 다시다 다시마 다용도 다운 다음날 다이젠 다인 다작 다주 다채롭다 다치다 다크 닥치다 닦다 닦이다 단도 단순 단언 단정 달걀 달동 달라다 달라붙다 달려오다 닭살 담당자 담배 답변 당감 당계 당그래 당근 당기다 당세 당일 당제 당하다 당황 대가 대게 대대 대대만 대면 대부분 대비 대세 대실 대안 대중적 대체 대체적 대체품 대추 대환영 댓글 더럽다 더리다 더블 덕이 던지다 덧바르다 덮개 덮다 데그 데니스 데다 데모 데상 데생 데쓰 데우다 데이 데이지 데일 도라 도브 도사 도색 도서 도시 도움 도작 도착 도포 독서실 독해 돈값 돈지 돋다 돌다 돌리다 돌아가다 동기 동네방네 동반 동반자 동봉 되잖다 두개 두껍다 두드러기 두렵다 둔거 둘려 뒤꿈치 뒤덮이다 뒤엉키다 뒤집히다 뒷쪽 듀이 드라 드레스 드릴 드림 들길 들꽃 들러붙다 들리다 들이다 들이마시다 등나무 등허리 디스 디올 따갑다 따다 따라오다 딸래미 딸리다 땅바닥 때다 때밀이 떠가다 떠나다 떠보다 떠올리다 떨다 떨어뜨리다 떨어지다 떼다 또또 똑같다 뚜껑 뚤리다 뚫다 뜨겁다 뜨다 뜯다 뜯어보다 띄다 띠다 라떼 라라 라라인 라면 라보에 라스트 라이드 라이스 라이지 라이터 라이팅 라인 라일락 라즈 랜덤 랜드 랜딩 러프 레바논 레서피 레전드 레티 로랑 로맨틱하다 로슈 로제 로트 로페즈 록시 롤링 루틴 룰루 리넨 리미티드 리뷰 리브르 리오 리터 린이 린지 마감 마그네슘 마그네틱 마디 마몽드 마무리 마블 마이크로 마인드 마일드 마찬가지 마케팅 마켓 마코 마트 막판 만그 만나다 만대 만만찮다 만시 만원 만전 만조 만지다 만지작거리다 만해 만호 많다 말갛다 말다 말리 말하기 말하다 망하다 맞다 맞춤 매각 매끄럽다 매니아 매다 매직 매한가지 맨들거리다 맨입 맵다 머리 머리띠 머리말 머리부 머리숱 머리카락 머무르다 먼저 먼지 멀리하다 멀미 멈추다 메꾸다 메다 메스 메이 메이커 메트 멜로 며칠 면봉 명도 명성 명품 몇일 모공 모낭 모던 모르다 모셔 모유 모이 모이다 모임 모자라다 목구멍 몰아 몸통 못대 못쓰다 못하다 무겁다 무기 무기질 무너지다 무디다 무료 무리 무심 무작정 묶다 묶음 문구 문대다 문의 문제 문제점 문지르다 묻다 묻어나다 물다 물량 물류 물방울 물복숭아 물어보다 물용 물의 물이랑 물질 뭉치다 뭍히다 뮤즈 미끄럽다 미끌다 미나 미니멀 미들 미디 미미 미백 미아 미역 미용실 미쟝센 미지 미혼 믹스 믹싱 민감 밀려오다 밀리다 밀림 밀어주다 밀착 밀크 밑줄 바꿔주다 바뀌다 바닥 바라다 바램 바르 바른쪽 바쁘다 바세린 바셀린 바우 바이 바이오 바질 바탕 박다 박스 박준 박하다 박히다 반대 반대편 반디 반반 반응 반응하 반짝이 반짝이다 반품 반하다 받다 받아들이다 발끝 발리다 발림 발사 발송 밝다 밤새 방금 방면 방법 방식 방어벽 방이 방지 방향 방향제 배다 배달 배송 배우다 배합 백미 백화점 뱃지 뱉다 버겁다 버리다 버스 버전 버튼 번거럽다 번거로움 번들 번들거리다 번의 번지다 번트 번하다 벌겋다 벌다 벗겨지다 벗기다 벗다 베다 베스트 베이 베이비 벨리 벨벳 벼루 벽면 변경 변한 변화 별개 별점 병사 보고 보관 보급 보내다 보다 보디 보라 보랏빛 보르도 보름 보습 보유자 보이다 보장 보조 보카 보태다 보호 복숭아 복숭아꽃 복의 복합 본건 본연 본의 본인 본질적 볼륨감 봄봄 부각 부두 부러지다 부르다 부사 부수다 부스러기 부음 부잣집 부적합 부족 부주의 부트 분기 분동 분리 분부 분사 분위기 분지 분포도 분홍 분홍빛 불가 불가능 불가리 불다 불량 불량품 불만 불만족 불면 불상사 불어나다 붉다 붙다 붙잡다 뷰러 브래드 브랜드 브러시 브리 블랙프라이데이 블러 블로그 블루 비누 비방 비색 비선 비염 비위생적 비추다 비추천 비치 비치다 비타 비하다 빈공 빗자루 빛나다 빠순이 빠져나오다 빠트리다 빨갛다 빨개지다 빨다 빨리다 뻗다 뽑아내다 뽑히다 뾰루지 뿜다 사건 사고방식 사구 사다 사라지다 사로잡다 사리다 사면 사본 사선 사세 사수 사신 사실 사쓰 사용 사용법 사은 사은품 사이보그 사진 사항 산거 산맥 산산조각 산유국 산지 산책 살결 살다 살지다 살펴보다 삼다 삼목 상관 상기 상두 상세 상아 상위권 상이 상자 상층 상태 상통 상품 상하다 상황실 새까맣다 새다 새상 새우깡 색감 색깔 색다르다 색의 색인 색조 샌달 생각 생각나다 생각하다 생기다 생난리 생리 생머리 생전 생필품 생화 생활용품 샤넬 샤스 섀도 섀도우 서답 서도 서랍장 서발 서비스 섞다 섞어다 섞이다 선무 선배 선생 선셋 선택 설레다 설명 설화수 성경미 성년 성분 성비 성수 성용 성전 성지성 세가 세련 세모 세안 세원 센스 센터 셔츠 소개 소나무 소독 소량 소문 소문내다 소비자 소성경 소유자 소장 소재 소진 소진하 소프 소프트 소피 소화 속상하다 속지 손가락 손길 손목 손자국 손재주 솟아나다 숏컷 수강 수도 수많다 수문 수부 수시 수없다 수염 수정 수치 수하 숙다 순간적 순수비 숨기다 숫자 쉐도우 슈링크 슈퍼 스마트 스며들다 스모크 스위트 스치다 스케일링 스키 스트라이프 스트로우 스트림 스파이 스팟 스펀지 슬다 슬림 습관 승급 시간대 시너지 시다 시대 시드 시리다 시리즈 시멘트 시스트 시실리안 시원찮다 시트 시판 시하 시향 시험 식다 식품 신건 신경 신경안 신나다 신다 신뢰 신분 신상품 신선하다 신신당부 신청 신한 실경 실망 실망감 실제 실천 실크 실핏줄 실험 싫다 심지 심처 심하다 심하진 심해진 십팔년 싸구려 싼값 쌓이다 쌔다 써클 썬크림 썸머 쏘다 쑤시다 쓰레기 쓰레기장 쓰이다 쓸데없다 쓸어내리다 씌우다 씻기다 아계 아기 아까 아깝다 아닌것 아랑 아랫 아랫부분 아르 아르마니 아메 아무것 아서 아서구 아쉬움 아쉽다 아악 아울리다 아이덴티티 아이디어 아이보리 아이크 아저씨 아크릴 아토피 아티스트 아프다 악성 안감 안남 안내 안다 안대 안되다 안두 안면 안보 안부 안사 안색 안시 안티 알고리즘 알다 알라 알로에 알바 알아보다 알코올 알콜 알파 알파벳 암거 앞전 앞쪽 애기 애로 애먹다 애쓰다 애초 애한 야상 야생 야하다 약과 약국 약속 약하다 양반 양초 어느날 어두움 어둡다 어떻다 어떻하다 어려움 어렵다 어른 어린 어머니 어메 어스 어제 어지럽다 어진 어패 어플 억누르다 언급 언더 언행 얹다 얹히다 얼굴 얼다 얼룩 엄다 엄마 엄지 엄청나다 업로드 없다 없애다 엉망 엉망진창 에드 에멀젼 에메랄드 에바 에센스 에스 에스라 에어 에오 에조 에탄올 엑스피 엔시 엘리 엘베 엣지 여기다 여기저기 여드름 여름 여름쯤 여름철 여물 여서인 여성 여성적 여성화 여운 여의주 여자 여자도 여재구 여친 역겨울 역대 역하다 역할 역해 연갈색 연고 연기 연달다 연력 연령 연말 연상 연세 연속 연인 연출 연필 연하다 연휴 열기구 열다 열리다 염료 영매 영상 영인 영입 영향 옆구리 옆머리 예스 옐로 옛날 오가다 오늘 오다 오디 오라버니 오래전 오렌지 오리지날 오산 오염 오전 오진 오팔 오픈 오후 온건 온라인 온식 올라가다 올라오다 올리브 옮겨가다 옮기다 옷장 와중 완료 왕국 왜인 외관 외국인 외부 외투 왼쪽 요건 요기 요단 요독 요렇다 요물 요보 요분 요사 요사이 요생 요성 요시카 요약 요원 요인 요장 요전 요정 요직 요질 요철 요코 요한 욕심내다 용기 용서 용일 용장 우로 우롱 우리나라 우발 우습다 우울 운동 울렁거리다 울트라 웃기다 워즈 워터 원래 원본 원부 원산지 원인 원조 원초적 원플러스원 웨어 웨이 웨이브 웨트 웬일 위생 위시 위안 위주 위해성 윗부분 유감 유니크 유도 유리 유백색 유분 유상수 유인 유재구 유지 유지력 유쾌하다 유튜브 육아 윤용기 으시대다 은기 은색 은아 은제 은하 은하수 음가 음보 음색 음속 음전 음정 음조 음지 음하다 음향 의견 의도적 의문 의미 의심 의자 이끌리다 이다음 이랑 이러다 이름 이리하다 이마 이물질 이상남 이상부 이상인 이세 이순 이슈 이야기 이용 이자 이지 이치 이태 이태리 이틀 이하 이해 인가 인간적 인걸 인기인 인다 인대 인라인 인상 인생 인생파 인위 인위적 인인 인조 인지도 인지상정 인텐시브 인형 일다 일당 일랑 일리 일면 일반 일반인 일반적 일시적 일안 일요일 일인 일자 일정 일주일 일지 일한 잃어버리다 임도 임하다 입구 입생 입소문 입술 입주 입히다 잊다 자국 자녀 자라다 자리 자몽 자아내다 자음 자작 자체 자취방 자한 작고 작성자 잔량 잔주름 잔향 잘못 잠금 잠금장치 잠자다 잠재우다 잡티 잡히다 장가 장기간 장기사 장난하 장단점 장문 장미 장미향 장소 장시간 장의 장인 장점 재구 재미있다 재보 재작년 재질 재창조 저격 저녁때 저렇다 저서 저장 저학년 적시다 적어지다 적응 적정량 전국적 전날 전동면 전말 전반 전반적 전제품 전처 전화 절간 절도 점다 점선 점유 접다 접어다 접착제 정도 정량 정력 정물 정상 정생 정수리 정신 정작 정전기 정화 젖다 제거제 제니퍼 제동 제드 제로 제목 제스 제약사 제조 제품력 젤라또 조가 조개 조만 조약 조이다 조작 조크 조화롭다 존재감 좀비 좁쌀 종류 종이 종이봉투 주간 주관적 주름 주무 주문 주사 주시 주위 주입구 주작 주전 주정 주지 주황 줄리 줄어들다 줄여보다 줍다 중단 중등 중요 중지 쥐다 쥬시 즐겁다 즐기다 증발 증상 증정품 지갑 지근 지금 지나다 지나치다 지날 지네 지다 지도 지렁이 지리 지만자 지모 지배자 지베르니 지복 지상태 지성 지성두 지성민 지성임 지세라 지속도 지수 지우개 지우다 지인선 지전 지점 지지 지지성 지진 지치다 지키다 지하 지하철 직접적 직후 진거 진다 진담 진동하 진득거리다 진열 진은 진접 진정세 진정인 진정제 진짜 진해 진해진 진향 질감 질정 짐승 집중 짙다 짜증 짝퉁 짤다 짤순이 짧다 쩔다 쪼다 쫄다 찌그러지다 찍다 찍히다 찐하다 찔리다 찢다 찢어지다 차별점 차선책 차이점 찰떡 참다 참다못하다 창가 창고 찾아가다 찾아보다 찾아오다 채도 채우다 채워지다 처스 처음 천원정 천일염 철이 첫날 첫발 첫인상 청바지 체감 체온 체적 체험 체험단 초가 초가을 초간 초겨울 초기 초면 초반 초창기 초하 촉발 총체적 총평 촬영 최근 최대 최소 최악 최저 최후 추억 추정 추천구 추천안 추출 추출물 축하 출고 출근길 출연 출전 충격적 충동 충동구매 취로 취향 층하 치다 치도 치명적 치약 친하다 칠리 침구 칭찬 카다 카드 카라 카렌 카메라 칼륨 칼슘 캐다 캐모마일 캐주얼 캡슐 커뮤니티 커보다 커브 컨디션 컨셉 컨투어 컴팩트 케이 케이스 케이크 케인 켜다 코도 코로나 코롱 코코넛 코코아 코튼 콧대 콧등 콧물 쿠라 쿠션 퀄리티 크레파스 크리미 크리스마스 큰맘 큰일 클리어 클린 키엘 타격 타올 타이 타일 타파 탁하다 탈지 탈취 태도 태평양 택배 택하다 터지다 털다 테라 테러 테스트 테스팅 테이프 토닉 토리 토마토 토스 토악질 통정 통하다 퇴폐 튀어나오다 튕기다 트라이 트렌디 트렌치 트리트먼트 트리플 특이 특이하다 틀다 틀리다 틈나다 틔다 티나다 티슈 파넬 파다 파란색 파먹다 파운데이션 파워 파임 파충류 파파 판매 판매처 판타지 팔꿈치 팔다리 팔뚝 팔로우 패드 패인 패치 패킹 퍼스트 퍼프 펄만 펌프식 펌핑 페어 페이 페이스 페이지 페퍼 페퍼민트 펜슬 펴지다 편도 편리 편입 펼쳐지다 평가 평균 평상시 평소 포고 포도주 포장 포켓 포토 포트 폭격 표현 푸르다 푸석거리다 풀다 품다 품도 품이 품정 품행 프랑스 프레그 프로바이오틱 프로필 프리즘 프린세스 프린팅 플라스틱 피드백 피부염 피카소 피팅 핀셋 필더 필터 핏줄기 핑계 하구 하귀 하기전 하다 하단 하대 하드 하루 하명 하사 하수구 하이 하트 한가 한국인 한기 한날 한남 한숨 한양 한정 한참 한천 한하다 할머니 할아버지 함구 함스 함양 함지 합성 합하다 해당 해도 해보면 해소 해외 해외여행 해제 해지 해프 핸드 햄스터 햇빛 향냄새 향이 향임 향자 향진 허그 허브 허옇다 허위 헐값 헛광 헤드 헤아리다 헤어 헤어나다 헤어지다 현대적 현상 현실 형세 형식 형체 호들갑 호수 호용 호인 호텔 호평 호피 호흡기 혹하다 혼란 홀리데이 홀리스터 홀아비 홍보 홍조 화나다 화보 화이트 화이트헤드 화이팅 화장실 화장지 화질 화하다 화해 확인 환경 환불 활동 활용법 회갈색 회로 회사 회색 회색빛 회색인 회성 회수 효고 효과 효과적 효도 효소 효진 효진님 후기 후레쉬 후면 후인 후회 휘그 휴지 흐르다 흔들다 흘러넘치다 흘리다 흠향 흡수력 흩날리다 희망자 흰색 히아신스 히피\n"
     ]
    }
   ],
   "source": [
    "print(*negative_words_ridge)"
   ]
  },
  {
   "cell_type": "code",
   "execution_count": 44,
   "id": "f81b4446",
   "metadata": {},
   "outputs": [
    {
     "name": "stdout",
     "output_type": "stream",
     "text": [
      "6848 2050\n"
     ]
    }
   ],
   "source": [
    "# 릿지모델의 긍정, 부정 단어 갯수\n",
    "print(len(positive_words_ridge),len(negative_words_ridge))"
   ]
  },
  {
   "cell_type": "code",
   "execution_count": null,
   "id": "42eacde0",
   "metadata": {},
   "outputs": [],
   "source": [
    "########################여가까지 릿지모델임 #########################################"
   ]
  },
  {
   "cell_type": "markdown",
   "id": "69f9d28d",
   "metadata": {},
   "source": [
    "# 2. 라쏘 모델 감성사전"
   ]
  },
  {
   "cell_type": "code",
   "execution_count": 47,
   "id": "a30d3d23",
   "metadata": {},
   "outputs": [
    {
     "name": "stdout",
     "output_type": "stream",
     "text": [
      "라쏘 회귀 - 긍정 사전: ['각질' '거품' '겨울' '고민' '끈적이다' '남편' '데일리' '되다' '두피' '들다' '뛰어나다' '마스카라' '마음'\n",
      " '만족' '믿다' '바디로션' '발라' '보습력' '부드럽다' '빠르다' '뿌리다' '샴푸' '선물' '세럼' '세일' '순하다'\n",
      " '쉽다' '쓰기' '쓰다' '쓸다' '어울리다' '에디션' '예쁘다' '오일' '올인' '완전' '이제' '자극' '자연' '자주'\n",
      " '잡다' '쟁이다' '제품' '좋다' '좋아하다' '주다' '중성적' '찾다' '최고' '추천' '친구' '크림' '타입' '통째'\n",
      " '편하다' '할인' '향도' '향수']\n",
      "라쏘 회귀 - 부정 사전: ['가다' '건성' '광고' '그렇다' '그리하다' '기대' '기대다' '기름' '기름지다' '깨지다' '난리' '느낌' '다리다'\n",
      " '닦다' '돌다' '돌아가다' '두껍다' '뚜껑' '뜯다' '리뷰' '많다' '맞다' '모공' '모르다' '못하다' '문의'\n",
      " '바뀌다' '배송' '백화점' '복숭아' '부러지다' '불다' '비추다' '비하다' '사다' '사라지다' '산거' '살다' '새다'\n",
      " '색감' '생각' '생각하다' '실제' '심하다' '쏘다' '아깝다' '아쉽다' '안되다' '알다' '어떻하다' '어렵다' '얼굴'\n",
      " '없다' '연하다' '오가다' '올라오다' '자체' '잘못' '정도' '좁쌀' '증정품' '지나다' '지성' '지우다' '짜증'\n",
      " '짧다' '찍히다' '취향' '케이스' '쿠션' '표현' '해소' '혹하다' '홍조' '화장지' '효과' '후기']\n"
     ]
    }
   ],
   "source": [
    "positive_words_lasso, negative_words_lasso = extract_sentiment_dictionary(lasso_cv, feature_names)\n",
    "print(\"라쏘 회귀 - 긍정 사전:\", positive_words_lasso)\n",
    "print(\"라쏘 회귀 - 부정 사전:\", negative_words_lasso)"
   ]
  },
  {
   "cell_type": "code",
   "execution_count": 63,
   "id": "82d1cd9e",
   "metadata": {},
   "outputs": [
    {
     "name": "stdout",
     "output_type": "stream",
     "text": [
      "6848 2050\n"
     ]
    }
   ],
   "source": [
    "#라쏘모델의 긍정, 부정 단어 갯수\n",
    "print(len(positive_words_ridge),len(negative_words_ridge))"
   ]
  },
  {
   "cell_type": "code",
   "execution_count": null,
   "id": "d093e0bc",
   "metadata": {},
   "outputs": [],
   "source": [
    "######################################## 여기까지가 라쏘 모델임 ############################################"
   ]
  },
  {
   "cell_type": "markdown",
   "id": "ac83e15d",
   "metadata": {},
   "source": [
    "## 엘라스틱넷 모델 감성사전"
   ]
  },
  {
   "cell_type": "code",
   "execution_count": 49,
   "id": "ffa5b40d",
   "metadata": {},
   "outputs": [
    {
     "name": "stdout",
     "output_type": "stream",
     "text": [
      "엘라스틱넷 - 긍정 사전: ['가격' '가지다' '각질' '감다' '강추' '거품' '건조' '겨울' '겨울철' '계속' '계절' '고르다' '고민' '고민하'\n",
      " '관리' '구성' '기획' '꾸다' '끈적이다' '나오다' '날씨' '남다' '남편' '달달' '대용량' '데일리' '되다'\n",
      " '두피' '들다' '들어가다' '디다' '뛰어나다' '라이트' '레드' '레이' '로에' '루나' '마스카라' '마스크' '마음'\n",
      " '만족' '매장' '먹다' '모로칸' '모으다' '미니' '믿다' '바닐라' '바디로션' '바르다' '바틀' '발라' '보습력'\n",
      " '부드럽다' '브라운' '비싸다' '빌리' '빠르다' '뿌리다' '사계절' '사이즈' '샴푸' '서클' '선물' '세럼' '세일'\n",
      " '세트' '속눈썹' '수분' '순하다' '쉽다' '스크럽' '스트레스' '써보다' '쓰기' '쓰다' '쓰리다' '쓸다' '아일'\n",
      " '아침' '얇다' '양조' '어울리다' '어쩌다' '에디션' '예쁘다' '오다' '오래가다' '오일' '올리다' '올인' '완전'\n",
      " '용량' '유명하다' '유목민' '이쁘다' '이유' '이제' '자극' '자다' '자연' '자주' '작다' '잡다' '쟁이다'\n",
      " '적당' '전체적' '정착' '제품' '좋다' '좋아하다' '주다' '중성적' '지속력' '지인' '진정효' '질레트' '짜다'\n",
      " '차이' '찾다' '챙기다' '최고' '추천' '친구' '컬러' '쿠폰' '크다' '크림' '타입' '탈모' '테스터' '토너'\n",
      " '통째' '트다' '파우더' '파우치' '팔레트' '편하다' '피부' '피지' '필수' '할인' '해보다' '행사' '향도'\n",
      " '향수' '향인' '호불호']\n",
      "엘라스틱넷 - 부정 사전: ['가다' '가오' '간지럽다' '감당' '개봉' '개인적' '거리다' '건성' '건지다' '고정' '공간' '광고' '광채'\n",
      " '괜찮다' '교환' '궁금하다' '그렇다' '그리하다' '글로우' '기대' '기대다' '기름' '기름지다' '기재' '깔리다'\n",
      " '깨지다' '난리' '내가다' '내다' '내용물' '냄새' '넘어가다' '넣다' '누르다' '눈가' '느낌' '다르다' '다리다'\n",
      " '다시다' '닦다' '대실' '데우다' '데이지' '도브' '돌다' '돌아가다' '두껍다' '뒤집히다' '따갑다' '떠나다'\n",
      " '뚜껑' '뜨다' '뜯다' '라이터' '레티' '로제' '리뷰' '리터' '많다' '말다' '맞다' '멀미' '며칠' '모공'\n",
      " '모르다' '못하다' '무겁다' '문의' '문제' '뭉치다' '미백' '믹스' '민감' '밀착' '바뀌다' '바닥' '박다'\n",
      " '박스' '발리다' '배송' '백화점' '벌다' '벗겨지다' '베다' '벨리' '보고' '보습' '복숭아' '부러지다' '부족'\n",
      " '불가리' '불다' '비추다' '비추천' '비하다' '뿜다' '사다' '사라지다' '사실' '산거' '살다' '상세' '상태'\n",
      " '새다' '새상' '색감' '샌달' '생각' '생각하다' '섀도우' '섞어다' '성분' '소재' '수부' '시향' '시험'\n",
      " '실망감' '실제' '심하다' '쏘다' '쓰이다' '아기' '아깝다' '아쉽다' '안되다' '알다' '어떻하다' '어렵다' '얼굴'\n",
      " '얼다' '엄마' '없다' '엔시' '연하다' '옛날' '오가다' '올라가다' '올라오다' '원래' '원인' '유지력' '음가'\n",
      " '의문' '이름' '이리하다' '이슈' '이하' '인형' '일주일' '입주' '자국' '자체' '잘못' '장점' '저렇다' '정도'\n",
      " '제조' '좁쌀' '종류' '증정품' '지나다' '지성' '지우다' '짜증' '짧다' '찍다' '찍히다' '찢어지다' '참다'\n",
      " '채도' '총평' '취향' '치다' '카드' '케이스' '쿠션' '터지다' '테스트' '파다' '파운데이션' '퍼프' '편리'\n",
      " '포장' '포토' '표현' '하이' '한날' '할머니' '해소' '혹하다' '홍조' '화장지' '회사' '효과' '후기' '휴지']\n"
     ]
    }
   ],
   "source": [
    "positive_words_elastic, negative_words_elastic = extract_sentiment_dictionary(elastic_cv, feature_names)\n",
    "print(\"엘라스틱넷 - 긍정 사전:\", positive_words_elastic)\n",
    "print(\"엘라스틱넷 - 부정 사전:\", negative_words_elastic)"
   ]
  },
  {
   "cell_type": "code",
   "execution_count": 60,
   "id": "9e929f46",
   "metadata": {},
   "outputs": [
    {
     "name": "stdout",
     "output_type": "stream",
     "text": [
      "6848 2050\n"
     ]
    }
   ],
   "source": [
    "#엘라스틱넷모델의 긍정, 부정 단어 갯수\n",
    "print(len(positive_words_ridge),len(negative_words_ridge))"
   ]
  },
  {
   "cell_type": "code",
   "execution_count": null,
   "id": "8c50183b",
   "metadata": {},
   "outputs": [],
   "source": [
    "####################################################끝#######################################################"
   ]
  },
  {
   "cell_type": "code",
   "execution_count": 29,
   "id": "c1f99e88",
   "metadata": {},
   "outputs": [
    {
     "data": {
      "text/html": [
       "<style>#sk-container-id-1 {color: black;background-color: white;}#sk-container-id-1 pre{padding: 0;}#sk-container-id-1 div.sk-toggleable {background-color: white;}#sk-container-id-1 label.sk-toggleable__label {cursor: pointer;display: block;width: 100%;margin-bottom: 0;padding: 0.3em;box-sizing: border-box;text-align: center;}#sk-container-id-1 label.sk-toggleable__label-arrow:before {content: \"▸\";float: left;margin-right: 0.25em;color: #696969;}#sk-container-id-1 label.sk-toggleable__label-arrow:hover:before {color: black;}#sk-container-id-1 div.sk-estimator:hover label.sk-toggleable__label-arrow:before {color: black;}#sk-container-id-1 div.sk-toggleable__content {max-height: 0;max-width: 0;overflow: hidden;text-align: left;background-color: #f0f8ff;}#sk-container-id-1 div.sk-toggleable__content pre {margin: 0.2em;color: black;border-radius: 0.25em;background-color: #f0f8ff;}#sk-container-id-1 input.sk-toggleable__control:checked~div.sk-toggleable__content {max-height: 200px;max-width: 100%;overflow: auto;}#sk-container-id-1 input.sk-toggleable__control:checked~label.sk-toggleable__label-arrow:before {content: \"▾\";}#sk-container-id-1 div.sk-estimator input.sk-toggleable__control:checked~label.sk-toggleable__label {background-color: #d4ebff;}#sk-container-id-1 div.sk-label input.sk-toggleable__control:checked~label.sk-toggleable__label {background-color: #d4ebff;}#sk-container-id-1 input.sk-hidden--visually {border: 0;clip: rect(1px 1px 1px 1px);clip: rect(1px, 1px, 1px, 1px);height: 1px;margin: -1px;overflow: hidden;padding: 0;position: absolute;width: 1px;}#sk-container-id-1 div.sk-estimator {font-family: monospace;background-color: #f0f8ff;border: 1px dotted black;border-radius: 0.25em;box-sizing: border-box;margin-bottom: 0.5em;}#sk-container-id-1 div.sk-estimator:hover {background-color: #d4ebff;}#sk-container-id-1 div.sk-parallel-item::after {content: \"\";width: 100%;border-bottom: 1px solid gray;flex-grow: 1;}#sk-container-id-1 div.sk-label:hover label.sk-toggleable__label {background-color: #d4ebff;}#sk-container-id-1 div.sk-serial::before {content: \"\";position: absolute;border-left: 1px solid gray;box-sizing: border-box;top: 0;bottom: 0;left: 50%;z-index: 0;}#sk-container-id-1 div.sk-serial {display: flex;flex-direction: column;align-items: center;background-color: white;padding-right: 0.2em;padding-left: 0.2em;position: relative;}#sk-container-id-1 div.sk-item {position: relative;z-index: 1;}#sk-container-id-1 div.sk-parallel {display: flex;align-items: stretch;justify-content: center;background-color: white;position: relative;}#sk-container-id-1 div.sk-item::before, #sk-container-id-1 div.sk-parallel-item::before {content: \"\";position: absolute;border-left: 1px solid gray;box-sizing: border-box;top: 0;bottom: 0;left: 50%;z-index: -1;}#sk-container-id-1 div.sk-parallel-item {display: flex;flex-direction: column;z-index: 1;position: relative;background-color: white;}#sk-container-id-1 div.sk-parallel-item:first-child::after {align-self: flex-end;width: 50%;}#sk-container-id-1 div.sk-parallel-item:last-child::after {align-self: flex-start;width: 50%;}#sk-container-id-1 div.sk-parallel-item:only-child::after {width: 0;}#sk-container-id-1 div.sk-dashed-wrapped {border: 1px dashed gray;margin: 0 0.4em 0.5em 0.4em;box-sizing: border-box;padding-bottom: 0.4em;background-color: white;}#sk-container-id-1 div.sk-label label {font-family: monospace;font-weight: bold;display: inline-block;line-height: 1.2em;}#sk-container-id-1 div.sk-label-container {text-align: center;}#sk-container-id-1 div.sk-container {/* jupyter's `normalize.less` sets `[hidden] { display: none; }` but bootstrap.min.css set `[hidden] { display: none !important; }` so we also need the `!important` here to be able to override the default hidden behavior on the sphinx rendered scikit-learn.org. See: https://github.com/scikit-learn/scikit-learn/issues/21755 */display: inline-block !important;position: relative;}#sk-container-id-1 div.sk-text-repr-fallback {display: none;}</style><div id=\"sk-container-id-1\" class=\"sk-top-container\"><div class=\"sk-text-repr-fallback\"><pre>LogisticRegression()</pre><b>In a Jupyter environment, please rerun this cell to show the HTML representation or trust the notebook. <br />On GitHub, the HTML representation is unable to render, please try loading this page with nbviewer.org.</b></div><div class=\"sk-container\" hidden><div class=\"sk-item\"><div class=\"sk-estimator sk-toggleable\"><input class=\"sk-toggleable__control sk-hidden--visually\" id=\"sk-estimator-id-1\" type=\"checkbox\" checked><label for=\"sk-estimator-id-1\" class=\"sk-toggleable__label sk-toggleable__label-arrow\">LogisticRegression</label><div class=\"sk-toggleable__content\"><pre>LogisticRegression()</pre></div></div></div></div></div>"
      ],
      "text/plain": [
       "LogisticRegression()"
      ]
     },
     "execution_count": 29,
     "metadata": {},
     "output_type": "execute_result"
    }
   ],
   "source": [
    "# 회귀분석 모델 생성 및 학습\n",
    "model = LogisticRegression()\n",
    "model.fit(X, df_all['label'])"
   ]
  },
  {
   "cell_type": "code",
   "execution_count": 30,
   "id": "b3816172",
   "metadata": {},
   "outputs": [],
   "source": [
    "# 감성 사전 구축\n",
    "feature_names = tfidf_vectorizer.get_feature_names_out()\n",
    "coefficients = model.coef_.flatten()"
   ]
  },
  {
   "cell_type": "code",
   "execution_count": 31,
   "id": "2c92d000",
   "metadata": {},
   "outputs": [],
   "source": [
    "# 회귀계수에 따른 단어 감성 판별\n",
    "positive_words = feature_names[coefficients > 0]\n",
    "negative_words = feature_names[coefficients < 0]"
   ]
  },
  {
   "cell_type": "code",
   "execution_count": 32,
   "id": "5ac58fa8",
   "metadata": {},
   "outputs": [
    {
     "name": "stdout",
     "output_type": "stream",
     "text": [
      "긍정 단어: ['가거' '가게' '가격' ... '힘쓰다' '힘없다' '힘주다']\n",
      "부정 단어: ['가까워다' '가까이' '가깝다' ... '흰색' '히피' '힘들이다']\n",
      "긍정 단어 수치: 7671\n",
      "부정 단어 수치: 1994\n"
     ]
    }
   ],
   "source": [
    "# 결과 출력\n",
    "print(\"긍정 단어:\", positive_words)\n",
    "print(\"부정 단어:\", negative_words)\n",
    "\n",
    "print(\"긍정 단어 수치:\", len(positive_words))\n",
    "print(\"부정 단어 수치:\", len(negative_words))"
   ]
  },
  {
   "cell_type": "code",
   "execution_count": 47,
   "id": "08f28afa",
   "metadata": {},
   "outputs": [
    {
     "name": "stdout",
     "output_type": "stream",
     "text": [
      "가까워다 가까이 가깝다 가다 가두다 가량 가려보다 가바 가약 가오 가요 가정 가지 가짜 가치 각인 각화증 간만 간이 간조 간지 간지럽다 간채 갈고다 갈리다 갈색 갈아타다 갈치 감당 감사 감수 감저 강도 강아지 강점 강제 강하 강하다 갖다 갖추다 개기름 개똥 개리 개별 개봉 개선 개성적 개이득 개인 개인적 개인차 개작 거근 거란 거리 거리다 거여 거울 거짓말 거칠다 건강 건드리다 건성 건지다 걸다 걸레 걸리다 걸치다 검다 검수 검은색 겉돌다 겉면 격일 결과 결론 결론적 결막염 결정 결제 결함 겸용 겹치다 경우 계산하다 계열 고객 고객센터 고건 고깃집 고다 고려 고민중 고밀 고발 고생 고속 고어 고올 고유 고장 고전 고정 고제 고집 고쳐다 고하다 고호 곰팡이 곱다 공간 공갈 공기 공동 공들이다 공장 공장부 과거 과대광고 과대평가 과장 과전 과정 과하다 관계자 관리하다 관상 관심 관자놀이 광고 광고인 광채 광화 괜찮다 괴롭다 교육 교환 교훈 구리다 구린내 구립 구매동기 구버 구분 구석 구처 구하다 국가 군용 굴리다 굵기 궁금하다 권하다 권하진 귀신 귀차니즘 귀찬다 그날그날 그러다 그러하다 그렇다 그레이스 그루 그리다 그리하다 그림자 그을다 그을리다 그지 극소량 극적 극지 극찬 근거 근래 근처 글로우 글자 긁다 긁히다 금방 금식 금액 급하다 기간 기다 기다리다 기대 기대다 기도 기랑 기름 기름때 기름종이 기름지다 기본 기분 기사 기술 기시다 기억 기용 기재 기전 기존 기한 기회 기획력 긴급 긴하다 길다 길들이다 길지 까다롭다 깎이다 깔다 깔리다 깨다 깨지다 꺼내다 껍질 꾸미다 끌다 끝내다 끝물 끼가다 끼다 끼우다 끼이다 나나 나누다 나다 나라 나머지 나무 나무껍질 나봐 나시 나아지다 나오다 나위 나중 나진 낚다 낚이다 난리 난장판 날뛰다 날라가다 날리다 날림 날아가다 날아다니다 날짜 남고 남기다 남다르다 남리 남모르다 남복 남아나다 남자애 남친 남평 낭군 낭낭 낭비 낭패 낮다 낮추다 내가다 내년 내놓다 내다 내리다 내신 내역 내용물 내장 내지 내츄럴 내친김 냄새 냄새나다 너리 넘기다 넘다 넘버 넘어가다 넘어지다 넘치다 넣다 네모 네오 노란색 노랑 노랗다 노려보다 노리다 노출 노폐물 녹다 녹아나다 녹지 녹차 놀다 농담 농익다 높다 누락 누렇다 누르다 눈가 눈감다 눈길 눈꼽 눈두덩이 눈썹 눌다 눕히다 느끼다 느낌 늘어지다 늙다 다가오다 다곤 다과 다구 다능 다니다 다다 다다르다 다르다 다름 다리 다리다 다마 다모 다부 다시다 다양 다용도 다우 다운 다인 다인종 다작 다재 다주 다채롭다 다치다 다크 다홍색 닥치다 닦다 닦이다 단계 단도 단독 단발머리 단순 단일 단정 단합 달걀 달동 달라다 달라붙다 달려오다 달이다 닭살 담당자 담배 답변 당그래 당근 당일 당제 당하다 당황 대가 대게 대다 대대 대대만 대면 대부분 대비 대세 대실 대안 대용 대인 대중적 대체 대체적 대체품 대추 댓글 더디다 더럽다 더리다 더블 덕이 던지다 덧바르다 덮개 덮다 데그 데다 데모 데상 데생 데쓰 데우다 데이 데이지 데일 도라 도브 도사 도색 도시 도움 도착 도피 독특 독해 돈값 돈지 돋다 돌다 돌리다 돌아가다 돌체 동기 동반 동봉 되잖다 두개 두껍다 두드러기 두렵다 뒤꿈치 뒤덮이다 뒤엉키다 뒤집히다 뒷쪽 듀이 드나다 드라 드라마틱 드레스 드리다 드릴 드림 들길 들꽃 들뜨다 들러붙다 들리다 들이다 들이마시다 등급 등나무 등분 디스 따갑다 따다 따라오다 딸기 딸래미 딸리다 땅바닥 때다 떠가다 떠나다 떠돌이 떠보다 떠올리다 떨다 떨어뜨리다 떨어지다 떼다 또또 똑같다 뚜껑 뚤리다 뚫다 뜨겁다 뜨다 뜯다 뜯어보다 띄다 띠다 라떼 라라 라라인 라면 라벤더 라보에 라이너 라이지 라이터 라이팅 라인 라일락 라즈 랜덤 랜딩 러프 레디 레바논 레이저 레전드 레티 로랑 로슈 로제 로지 로트 로페즈 록시 롤링 루비 루틴 리넨 리미티드 리뷰 리브르 리스크 리오 리치 리터 리해 린이 린지 립글로스 마감 마구 마그네틱 마디 마르다 마몽드 마법 마블 마인드 마일드 마케팅 마켓 마트 막이 막판 만나다 만내 만대 만들다 만만찮다 만원 만전 만지다 만해 만호 많다 말갛다 말다 말라가 말리다 말하기 말하다 망하다 맞다 맞춤 매각 매끄럽다 매니아 매다 매직 매트 매한가지 맨들거리다 맨입 맵다 머리말 머리부 머리카락 머릿결 머무르다 먼저 먼지 멀리하다 멀미 멈추다 메꾸다 메다 메우다 메이 메이커 메트 멘토링 며칠 면봉 명가 명도 명성 명품 몇일 모공 모낭 모던 모라 모르다 모발 모셔 모유 모이 모이다 모임 모자라다 목구멍 목욕탕 몰아 몸통 못대 못쓰다 못하다 묘사 무겁다 무기 무너지다 무드 무디다 무료 무르다 무리 무심 무안 무작정 문구 문대다 문의 문제 문제점 문지르다 묻다 묻어나다 물건 물다 물류 물방울 물복숭아 물이랑 뭉치다 뮤즈 미관 미끄럽다 미니멀 미디 미라클 미미 미백 미아 미역 미용실 미지 미혼 믹스 믹싱 민감 밀다 밀려오다 밀리다 밀림 밀어주다 밀착 밀크 밑줄 바꾸다 바꿔주다 바뀌다 바닥 바라다 바래다 바램 바르 바르다 바쁘다 바세린 바셀린 바우 바이 바이오 바질 바탕 박다 박스 박준 박하다 박히다 반대 반대편 반디 반려 반면 반반 반응 반전 반짝이 반짝이다 반품 반하다 받다 받아들이다 발끝 발리다 발림 발송 밝다 밤새 방구석 방금 방면 방법 방식 방어벽 방이 방지 방향 방향제 배다 배달 배송 배송준 배합 백미 백성 백화점 뱉다 버겁다 버리다 버스 버전 버튼 번갈다 번거럽다 번거로움 번들 번의 번지다 번하다 벌겋다 벌다 벌칙 벗겨지다 벗다 베다 베스트 베어 베이 베이비 벨리 벨벳 벼루 벽면 변경 변성 변한 변화 별개 별점 보고 보관 보급 보내다 보다 보라 보랏빛 보르도 보름 보습 보심 보유자 보이다 보장 보정 보카 보태다 보통 보호 복병 복숭아 복숭아꽃 복합 본건 본연 본의 본인 볼륨감 봄가을 봄봄 봄철 부각 부러지다 부르다 부모 부분 부수다 부스러기 부음 부잣집 부적합 부족 부주의 부풀다 분기 분동 분리 분부 분위기 분지 분포도 분홍 분홍빛 불가 불가능 불가리 불구 불다 불량 불량품 불리다 불만 불만족 불면 불상사 불어나다 붉다 붙다 붙잡다 브랜드 브러시 브리 블랙프라이데이 블러 블로그 블루 비누 비방 비색 비염 비위 비율 비적 비중 비추 비추다 비추천 비치 비치다 비타 비하다 빈공 빗자루 빛나다 빠순이 빠져나오다 빠지다 빠트리다 빨갛다 빨개지다 빨다 빨리다 뻗다 뽑아내다 뽑히다 뾰루지 뿜다 사건 사고방식 사기 사다 사라지다 사람 사로잡다 사본 사선 사세 사수 사신 사실 사용 사용감 사용법 사은 사은품 사이보그 사진 사항 삭다 산거 산맥 산산조각 산유국 산지 살결 살구 살다 살지다 살펴보다 삼다 삼목 상관 상관없다 상기 상상 상세 상아 상위 상위권 상이 상자 상태 상품 상하다 새까맣다 새다 새상 새우깡 색감 색깔 색다르다 색의 색조 샌달 생각 생각나다 생각하다 생기다 생김 생난리 생리 생머리 생전 생필품 생화 생활 샤넬 섀도 섀도우 서도 서랍장 서비스 석한 섞다 섞어다 섞이다 선배 선생 선셋 선택 설레다 설명 설탕 설화수 성경미 성공 성년 성분 성비 성수 성용 성지성 세가 세련 세모 세안 센스 센터 셔츠 소개 소금 소나무 소독 소량 소문 소비자 소성경 소용없다 소유자 소장 소재 소진 소프트 소피 소화 속다 속상 속상하다 속지 손가락 손도 손목 손쉽다 손자국 손재주 솔트 솟아나다 숏컷 수도 수많다 수부 수없다 수염 수정 수하 순간적 순수비 순위 숨기다 숫자 쉐도우 쉰내 슈링크 슈퍼 스며들다 스위트 스치다 스케일링 스키 스트로우 스트림 스틱 스파이 스펀지 슬다 슬림 슬프다 습관 시간대 시기 시너지 시다 시대 시드 시리다 시리즈 시멘트 시문 시스트 시실리안 시원찮다 시중 시즌 시트 시하 시향 시험 식다 식물 식품 신건 신경 신경안 신다 신뢰 신분 신상품 신선하다 신청 신한 실망 실망감 실제 실핏줄 실험 싫다 심지 심하다 심하진 심해진 십팔년 싸구려 쌓이다 쌔다 써보다 써클 썩다 썬크림 썸머 쏘다 쑤시다 쓰레기 쓰레기장 쓰이다 쓸데없다 쓸어내리다 씌우다 씻기다 씻다 아계 아기 아까 아깝다 아끼다 아난 아누 아닌것 아랑 아랫 아르 아르마니 아메 아무것 아서 아쉬움 아쉽다 아이덴티티 아이디어 아이보리 아이크 아재 아저씨 아토피 아티스트 아프다 악성 안감 안남 안느 안다 안대 안되다 안두 안면 안보 안부 안사 안색 안시 알고리즘 알다 알로에 알리다 알바 알아보다 알아주다 알코올 알파 앗다 앞전 앞쪽 애기 애로 애먹다 애쓰다 애초 액정 야상 야생 야하다 약과 약국 약산성 약속 약품 약하다 얌전 양반 어느날 어두 어두움 어둡다 어떻다 어떻하다 어려움 어렵다 어른 어린 어머니 어메 어스 어제 어지럽다 어진 어패 어플 억누르다 언급 언더 언행 얹다 얹히다 얼굴 얼다 얼룩 엄다 엄마 엄지 엄청나다 엄하다 업로드 없다 없애다 엉망 엉망진창 엎치다 에드 에멀젼 에바 에센스 에스 에어 에오 에조 에탄올 엑스피 엔시 엘리 엘베 여기다 여기저기 여드름 여름 여성적 여운 여자 여자도 여친 역겨울 역하다 역해 연갈색 연고 연달다 연령 연말 연상 연속 연인 연필 연하다 연휴 열기구 열다 열리다 영매 영상 영양 영인 영입 영향 옅다 옆구리 예전 옐로 옛날 오가다 오늘 오다 오디 오래전 오렌지 오리지날 오산 오염 오전 오진 오팔 오픈 오해 온건 온라인 올라가다 올라오다 올리가 올리브 옮겨가다 옮기다 옷장 와중 완료 왕국 왜인 외관 외부 외투 왼쪽 요건 요구 요기 요단 요물 요보 요분 요사 요사이 요생 요성 요세 요시카 요약 요인 요일 요장 요전 요정 요철 요코 요플레 요한 욕심내다 용기 용사 용서 용일 우글거리다 우로 우롱 우리나라 우발 우습다 우울 운동 운송 울렁거리다 울트라 웃기다 웃다 워즈 워터 원래 원인 원조 원플러스원 웨이 웨트 웬일 위생 위시 위안 위주 윗면 윗부분 유감 유니크 유도 유리 유분 유수 유요 유재구 유지 유지력 유쾌하다 유튜브 육아 으시대다 은거 은기 은방울꽃 은사 은색 은성 은아 은제 음가 음색 음속 음전 음정 음지 음하다 음향 음효 의견 의문 의미 의사 의심 의자 이끌리다 이다음 이랑 이러다 이름 이리하다 이마 이물질 이상남 이상부 이상인 이세 이슈 이야기 이용 이자 이전 이지 이질감 이치 이태리 이통 이틀 이하 이해 이호 인가 인간 인간적 인걸 인공 인공적 인기 인대 인상 인생 인생파 인위 인인 인입 인조 인지도 인텐시브 인형 일당 일반 일반인 일반적 일부 일시적 일안 일인 일자 일정 일주일 일지 일하다 일한 잃어버리다 임도 임하다 입가 입구 입생 입소문 입술 입안 입장 입주 입히다 잊다 자국 자녀 자라다 자리 자몽 자아내다 자음 자작 자체 자한 작고 작성자 작아지다 잔량 잔주름 잔향 잘나다 잘못 잠금 잠금장치 잠자다 잠재우다 잡티 잡히다 장가 장기간 장난하 장단점 장문 장미 장미향 장소 장시간 장인 장점 재구 재미있다 재보 재작년 재창조 저격 저렇다 저장 적기 적시다 적어지다 적응 적정량 전날 전말 전반 전반적 전성 전제품 전직 전처 전화 절간 점선 점성 점유 점주 접근 접다 접어다 접착제 접촉 정도 정량 정력 정물 정상 정생 정수리 정신 정원 정작 정전기 정체성 정화 젖다 제니퍼 제로 제목 제스 제조 제품력 제형 조가 조개 조신 조심 조작 조치 조크 조화 조화롭다 조효진 좁다 좁쌀 종류 종이 종이봉투 주간 주관적 주름 주머니 주무 주문 주사 주시 주입구 주정 주지 주황 줄어들다 줄이다 줍다 중단 중독 중동 중상 중요 중점 중지 쥐다 즐겁다 즐기다 증발 증상 증정품 지갑 지근 지금 지금보 지나다 지나치다 지난번 지날 지네 지다 지도 지리 지만자 지모 지베르니 지복 지상태 지성 지성두 지성민 지성임 지속도 지우개 지우다 지인선 지전 지점 지지 지지성 지진 지처 지치다 지키다 지하 지하철 직원 직접적 직후 진거 진다 진담 진득거리다 진심 진은 진입 진자 진저 진접 진정제 진짜 진하다 진해 진해진 진향 질감 질다 질정 짐승 집중 짙다 짜증 짝퉁 짤다 짧다 쩔다 쪼다 쫄다 찌그러지다 찍다 찍히다 찐하다 찔리다 찢다 찢어지다 차별점 차선책 차이점 착각 찬양 찰떡 참다 참다못하다 창가 창고 찾아가다 찾아보다 찾아오다 채도 채우다 채워지다 처스 처음 천원정 천일염 첫날 첫발 첫인상 청바지 청춘 체감 체인 체적 체험 체험단 초가 초가을 초간 초기 초반 초창기 초콜릿 초하 촉감 촉발 총평 촬영 최대 최악 최저 추구 추억 추정 추천구 추천안 추출 추출물 축하 출고 출근길 충격적 충동 충동구매 취로 취소 취하다 취향 치다 치명적 치약 치우다 친하다 칠리 침구 칭찬 카다 카드 카라 카렌 카메라 캐다 캐릭터 캐모마일 캐주얼 캔들 캡슐 커보다 커브 컨디션 컨셉 컨투어 컴팩트 케이 케이스 케인 켜다 코도 코로나 코롱 코코아 코튼 콜라 콧대 콧등 콧물 쿠라 쿠션 퀄리티 크레파스 크리미 크리스마스 큰맘 큰일 클리어 클린 키엘 타올 타이 타일 탈지 태도 태평양 택배 택하다 터득 터지다 터치 털다 테라 테스트 테이프 토닉 토마토 토스 토악질 통정 퇴폐 튀어나오다 튕기다 트라이 트렌디 트리트 트리트먼트 트와이스 특이 특이하다 특장 틀다 틀리다 틈나다 티슈 파넬 파다 파란색 파먹다 파운데이션 파임 파충류 판단하다 판매 판매처 판타지 팔꿈치 팔다리 팔뚝 팔로우 패인 패치 패킹 퍼프 펄만 펌프식 펌핑 페어 페이 페이스 페이지 페퍼 페퍼민트 펜슬 펴지다 편도 편리 펼쳐지다 평가 평균 평상시 포고 포도주 포션 포장 포토 포트 폭발 폴리스 표본 표현 푸딩 푸르다 푸석거리다 푼돈 풀다 품도 품이 품정 품행 풍선껌 프레 프레그 프로필 프리즘 프린세스 프린팅 플라스틱 플라스틱판 피드백 피부과 피부염 피치 피카소 피팅 피해 핀셋 필터 핏줄기 하구 하귀 하기전 하나마나 하다 하단 하대 하드 하루 하명 하사 하수구 하얗다 하이 하트 학생 한가 한겨울 한국인 한기 한날 한숨 한양 한정 한참 한천 한하다 할머니 함구 함스 합성 해당 해도 해보면 해소 해외 해외여행 해지 햇빛 향기 향냄새 향의 향이 향임 향진 허그 허옇다 허위 헛광 헤다 헤드 헤어나다 헤어지다 현대사회 현실 형광 형식 호들갑 호수 호스 호용 호인 호텔 호평 호피 호흡기 혹하다 혼란 홀리데이 홀리스터 홍보 홍조 화나다 화농 화보 화이트 화이트헤드 화이팅 화장대 화장실 화장지 화질 화하다 화해 확인 환불 활동 활성제 활용 회갈색 회로 회사 회색 회색빛 회색인 회수 효과 효과적 효도 효소 효진 효진님 후기 후면 후인 후회 휘그 휴지 흐르다 흔들다 흘리다 흠향 흡수력 흩날리다 희망자 흰색 히피 힘들이다\n"
     ]
    }
   ],
   "source": [
    "print(*negative_words)"
   ]
  },
  {
   "cell_type": "code",
   "execution_count": 48,
   "id": "3648a64d",
   "metadata": {},
   "outputs": [
    {
     "ename": "NameError",
     "evalue": "name 'y' is not defined",
     "output_type": "error",
     "traceback": [
      "\u001b[1;31m---------------------------------------------------------------------------\u001b[0m",
      "\u001b[1;31mNameError\u001b[0m                                 Traceback (most recent call last)",
      "Cell \u001b[1;32mIn[48], line 16\u001b[0m\n\u001b[0;32m     14\u001b[0m \u001b[38;5;28;01mfor\u001b[39;00m param \u001b[38;5;129;01min\u001b[39;00m param_range:\n\u001b[0;32m     15\u001b[0m     model\u001b[38;5;241m.\u001b[39mset_params(alpha\u001b[38;5;241m=\u001b[39mparam)\n\u001b[1;32m---> 16\u001b[0m     scores \u001b[38;5;241m=\u001b[39m cross_val_score(model, X, y, cv\u001b[38;5;241m=\u001b[39m\u001b[38;5;241m5\u001b[39m)\n\u001b[0;32m     17\u001b[0m     \u001b[38;5;28;01mif\u001b[39;00m np\u001b[38;5;241m.\u001b[39mmean(scores) \u001b[38;5;241m>\u001b[39m best_score:\n\u001b[0;32m     18\u001b[0m         best_score \u001b[38;5;241m=\u001b[39m np\u001b[38;5;241m.\u001b[39mmean(scores)\n",
      "\u001b[1;31mNameError\u001b[0m: name 'y' is not defined"
     ]
    }
   ],
   "source": [
    "import numpy as np\n",
    "# 모델 지정 및 파라미터 범위 설정\n",
    "models = {\n",
    "    'Ridge': Ridge(),\n",
    "    'Lasso': Lasso(),\n",
    "    'ElasticNet': ElasticNet()\n",
    "}\n",
    "param_range = np.logspace(-3, 3, 7) # 파라미터 범위지정\n",
    "\n",
    "# 교차 검증을 이용해 최적 파라미터 찾기\n",
    "best_params = {}\n",
    "for name, model in models.items():\n",
    "    best_score = -np.inf\n",
    "    for param in param_range:\n",
    "        model.set_params(alpha=param)\n",
    "        scores = cross_val_score(model, X, y, cv=5)\n",
    "        if np.mean(scores) > best_score:\n",
    "            best_score = np.mean(scores)\n",
    "            best_params[name] = param\n",
    "\n",
    "# 최적 파라미터로 모델 학습 및 회귀 계수 분석\n",
    "for name, model in models.items():\n",
    "    model.set_params(alpha=best_params[name])\n",
    "    model.fit(X, y)\n",
    "    # 회귀 계수\n",
    "    coefficients = model.coef_\n",
    "    # 단어 목록\n",
    "    feature_names = tfidf_vectorizer.get_feature_names_out()\n",
    "    # 긍정 및 부정 사전 구축\n",
    "    positive_words = feature_names[coefficients > 0]\n",
    "    negative_words = feature_names[coefficients < 0]\n",
    "    print(f\"{name} 회귀 - 긍정 사전: {positive_words}, 부정 사전: {negative_words}\")\n"
   ]
  },
  {
   "cell_type": "code",
   "execution_count": 91,
   "id": "156bd89f",
   "metadata": {},
   "outputs": [
    {
     "ename": "KeyError",
     "evalue": "0",
     "output_type": "error",
     "traceback": [
      "\u001b[1;31m---------------------------------------------------------------------------\u001b[0m",
      "\u001b[1;31mKeyError\u001b[0m                                  Traceback (most recent call last)",
      "Cell \u001b[1;32mIn[91], line 1\u001b[0m\n\u001b[1;32m----> 1\u001b[0m models[\u001b[38;5;241m0\u001b[39m]\n",
      "\u001b[1;31mKeyError\u001b[0m: 0"
     ]
    }
   ],
   "source": [
    "models[0]"
   ]
  },
  {
   "cell_type": "code",
   "execution_count": null,
   "id": "1db9e5c7",
   "metadata": {},
   "outputs": [],
   "source": []
  }
 ],
 "metadata": {
  "kernelspec": {
   "display_name": "Python 3 (ipykernel)",
   "language": "python",
   "name": "python3"
  },
  "language_info": {
   "codemirror_mode": {
    "name": "ipython",
    "version": 3
   },
   "file_extension": ".py",
   "mimetype": "text/x-python",
   "name": "python",
   "nbconvert_exporter": "python",
   "pygments_lexer": "ipython3",
   "version": "3.11.3"
  }
 },
 "nbformat": 4,
 "nbformat_minor": 5
}
